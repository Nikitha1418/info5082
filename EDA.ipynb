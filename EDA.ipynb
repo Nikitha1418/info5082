{
  "nbformat": 4,
  "nbformat_minor": 0,
  "metadata": {
    "colab": {
      "name": "EDA.ipynb",
      "provenance": [],
      "authorship_tag": "ABX9TyP6kHe3gVhRqJRg5DEqZCZi",
      "include_colab_link": true
    },
    "kernelspec": {
      "name": "python3",
      "display_name": "Python 3"
    },
    "language_info": {
      "name": "python"
    }
  },
  "cells": [
    {
      "cell_type": "markdown",
      "metadata": {
        "id": "view-in-github",
        "colab_type": "text"
      },
      "source": [
        "<a href=\"https://colab.research.google.com/github/Nikitha1418/info5082/blob/main/EDA.ipynb\" target=\"_parent\"><img src=\"https://colab.research.google.com/assets/colab-badge.svg\" alt=\"Open In Colab\"/></a>"
      ]
    },
    {
      "cell_type": "code",
      "metadata": {
        "id": "SuV07_JrqeWo"
      },
      "source": [
        "import pandas as pd\n",
        "import matplotlib as mat"
      ],
      "execution_count": 30,
      "outputs": []
    },
    {
      "cell_type": "code",
      "metadata": {
        "id": "2aTXZtaDqg84"
      },
      "source": [
        "data_df = pd.read_csv(\"/content/reviews.csv\")"
      ],
      "execution_count": 31,
      "outputs": []
    },
    {
      "cell_type": "code",
      "metadata": {
        "colab": {
          "base_uri": "https://localhost:8080/",
          "height": 402
        },
        "id": "x4KW-DzUqrXc",
        "outputId": "9bcbd6a8-0936-449f-86a8-453c35beffa5"
      },
      "source": [
        "data_df"
      ],
      "execution_count": 32,
      "outputs": [
        {
          "output_type": "execute_result",
          "data": {
            "text/html": [
              "<div>\n",
              "<style scoped>\n",
              "    .dataframe tbody tr th:only-of-type {\n",
              "        vertical-align: middle;\n",
              "    }\n",
              "\n",
              "    .dataframe tbody tr th {\n",
              "        vertical-align: top;\n",
              "    }\n",
              "\n",
              "    .dataframe thead th {\n",
              "        text-align: right;\n",
              "    }\n",
              "</style>\n",
              "<table border=\"1\" class=\"dataframe\">\n",
              "  <thead>\n",
              "    <tr style=\"text-align: right;\">\n",
              "      <th></th>\n",
              "      <th>Name</th>\n",
              "      <th>Reviews</th>\n",
              "      <th>Ratings</th>\n",
              "    </tr>\n",
              "  </thead>\n",
              "  <tbody>\n",
              "    <tr>\n",
              "      <th>0</th>\n",
              "      <td>Xiaomi-Band-Wristband-Magnetic-Bluetooth</td>\n",
              "      <td>TLDR: After owning a $150 FitBit and a $35 L...</td>\n",
              "      <td>5</td>\n",
              "    </tr>\n",
              "    <tr>\n",
              "      <th>1</th>\n",
              "      <td>Xiaomi-Band-Wristband-Magnetic-Bluetooth</td>\n",
              "      <td>It's just mandarin, english, russian and spa...</td>\n",
              "      <td>1</td>\n",
              "    </tr>\n",
              "    <tr>\n",
              "      <th>2</th>\n",
              "      <td>Xiaomi-Band-Wristband-Magnetic-Bluetooth</td>\n",
              "      <td>I’m a Xiaomi fan so I may be a little lenien...</td>\n",
              "      <td>3</td>\n",
              "    </tr>\n",
              "    <tr>\n",
              "      <th>3</th>\n",
              "      <td>Xiaomi-Band-Wristband-Magnetic-Bluetooth</td>\n",
              "      <td>Love it so much!I mainly just need something...</td>\n",
              "      <td>5</td>\n",
              "    </tr>\n",
              "    <tr>\n",
              "      <th>4</th>\n",
              "      <td>Xiaomi-Band-Wristband-Magnetic-Bluetooth</td>\n",
              "      <td>I paired this with my iPhone, my S7 and my M...</td>\n",
              "      <td>4</td>\n",
              "    </tr>\n",
              "    <tr>\n",
              "      <th>...</th>\n",
              "      <td>...</td>\n",
              "      <td>...</td>\n",
              "      <td>...</td>\n",
              "    </tr>\n",
              "    <tr>\n",
              "      <th>3747</th>\n",
              "      <td>Fitpolo-Trackers-Waterproof</td>\n",
              "      <td>I love it</td>\n",
              "      <td>5</td>\n",
              "    </tr>\n",
              "    <tr>\n",
              "      <th>3748</th>\n",
              "      <td>Fitpolo-Trackers-Waterproof</td>\n",
              "      <td>Love this watch</td>\n",
              "      <td>5</td>\n",
              "    </tr>\n",
              "    <tr>\n",
              "      <th>3749</th>\n",
              "      <td>Fitpolo-Trackers-Waterproof</td>\n",
              "      <td>This fitness tracker is cool and foolproof w...</td>\n",
              "      <td>5</td>\n",
              "    </tr>\n",
              "    <tr>\n",
              "      <th>3750</th>\n",
              "      <td>Fitpolo-Trackers-Waterproof</td>\n",
              "      <td>One of the best part of this watch is it’s h...</td>\n",
              "      <td>5</td>\n",
              "    </tr>\n",
              "    <tr>\n",
              "      <th>3751</th>\n",
              "      <td>Fitpolo-Trackers-Waterproof</td>\n",
              "      <td>Have hade one of these for previous version ...</td>\n",
              "      <td>5</td>\n",
              "    </tr>\n",
              "  </tbody>\n",
              "</table>\n",
              "<p>3752 rows × 3 columns</p>\n",
              "</div>"
            ],
            "text/plain": [
              "                                          Name  ... Ratings\n",
              "0     Xiaomi-Band-Wristband-Magnetic-Bluetooth  ...       5\n",
              "1     Xiaomi-Band-Wristband-Magnetic-Bluetooth  ...       1\n",
              "2     Xiaomi-Band-Wristband-Magnetic-Bluetooth  ...       3\n",
              "3     Xiaomi-Band-Wristband-Magnetic-Bluetooth  ...       5\n",
              "4     Xiaomi-Band-Wristband-Magnetic-Bluetooth  ...       4\n",
              "...                                        ...  ...     ...\n",
              "3747               Fitpolo-Trackers-Waterproof  ...       5\n",
              "3748               Fitpolo-Trackers-Waterproof  ...       5\n",
              "3749               Fitpolo-Trackers-Waterproof  ...       5\n",
              "3750               Fitpolo-Trackers-Waterproof  ...       5\n",
              "3751               Fitpolo-Trackers-Waterproof  ...       5\n",
              "\n",
              "[3752 rows x 3 columns]"
            ]
          },
          "metadata": {
            "tags": []
          },
          "execution_count": 32
        }
      ]
    },
    {
      "cell_type": "markdown",
      "metadata": {
        "id": "0GusXIrDqxxm"
      },
      "source": [
        "#EXPLORATORY DATA ANALYSIS"
      ]
    },
    {
      "cell_type": "code",
      "metadata": {
        "colab": {
          "base_uri": "https://localhost:8080/",
          "height": 402
        },
        "id": "wN2huFkHqwEV",
        "outputId": "387a574a-f5e8-43a9-f297-ca27077940fd"
      },
      "source": [
        "data_df.isnull()"
      ],
      "execution_count": 33,
      "outputs": [
        {
          "output_type": "execute_result",
          "data": {
            "text/html": [
              "<div>\n",
              "<style scoped>\n",
              "    .dataframe tbody tr th:only-of-type {\n",
              "        vertical-align: middle;\n",
              "    }\n",
              "\n",
              "    .dataframe tbody tr th {\n",
              "        vertical-align: top;\n",
              "    }\n",
              "\n",
              "    .dataframe thead th {\n",
              "        text-align: right;\n",
              "    }\n",
              "</style>\n",
              "<table border=\"1\" class=\"dataframe\">\n",
              "  <thead>\n",
              "    <tr style=\"text-align: right;\">\n",
              "      <th></th>\n",
              "      <th>Name</th>\n",
              "      <th>Reviews</th>\n",
              "      <th>Ratings</th>\n",
              "    </tr>\n",
              "  </thead>\n",
              "  <tbody>\n",
              "    <tr>\n",
              "      <th>0</th>\n",
              "      <td>False</td>\n",
              "      <td>False</td>\n",
              "      <td>False</td>\n",
              "    </tr>\n",
              "    <tr>\n",
              "      <th>1</th>\n",
              "      <td>False</td>\n",
              "      <td>False</td>\n",
              "      <td>False</td>\n",
              "    </tr>\n",
              "    <tr>\n",
              "      <th>2</th>\n",
              "      <td>False</td>\n",
              "      <td>False</td>\n",
              "      <td>False</td>\n",
              "    </tr>\n",
              "    <tr>\n",
              "      <th>3</th>\n",
              "      <td>False</td>\n",
              "      <td>False</td>\n",
              "      <td>False</td>\n",
              "    </tr>\n",
              "    <tr>\n",
              "      <th>4</th>\n",
              "      <td>False</td>\n",
              "      <td>False</td>\n",
              "      <td>False</td>\n",
              "    </tr>\n",
              "    <tr>\n",
              "      <th>...</th>\n",
              "      <td>...</td>\n",
              "      <td>...</td>\n",
              "      <td>...</td>\n",
              "    </tr>\n",
              "    <tr>\n",
              "      <th>3747</th>\n",
              "      <td>False</td>\n",
              "      <td>False</td>\n",
              "      <td>False</td>\n",
              "    </tr>\n",
              "    <tr>\n",
              "      <th>3748</th>\n",
              "      <td>False</td>\n",
              "      <td>False</td>\n",
              "      <td>False</td>\n",
              "    </tr>\n",
              "    <tr>\n",
              "      <th>3749</th>\n",
              "      <td>False</td>\n",
              "      <td>False</td>\n",
              "      <td>False</td>\n",
              "    </tr>\n",
              "    <tr>\n",
              "      <th>3750</th>\n",
              "      <td>False</td>\n",
              "      <td>False</td>\n",
              "      <td>False</td>\n",
              "    </tr>\n",
              "    <tr>\n",
              "      <th>3751</th>\n",
              "      <td>False</td>\n",
              "      <td>False</td>\n",
              "      <td>False</td>\n",
              "    </tr>\n",
              "  </tbody>\n",
              "</table>\n",
              "<p>3752 rows × 3 columns</p>\n",
              "</div>"
            ],
            "text/plain": [
              "       Name  Reviews  Ratings\n",
              "0     False    False    False\n",
              "1     False    False    False\n",
              "2     False    False    False\n",
              "3     False    False    False\n",
              "4     False    False    False\n",
              "...     ...      ...      ...\n",
              "3747  False    False    False\n",
              "3748  False    False    False\n",
              "3749  False    False    False\n",
              "3750  False    False    False\n",
              "3751  False    False    False\n",
              "\n",
              "[3752 rows x 3 columns]"
            ]
          },
          "metadata": {
            "tags": []
          },
          "execution_count": 33
        }
      ]
    },
    {
      "cell_type": "code",
      "metadata": {
        "colab": {
          "base_uri": "https://localhost:8080/"
        },
        "id": "b46Xn9qkreiR",
        "outputId": "4e19439c-94c9-4f2a-9b7c-a594f1a7dce4"
      },
      "source": [
        "data_df.info()"
      ],
      "execution_count": 34,
      "outputs": [
        {
          "output_type": "stream",
          "text": [
            "<class 'pandas.core.frame.DataFrame'>\n",
            "RangeIndex: 3752 entries, 0 to 3751\n",
            "Data columns (total 3 columns):\n",
            " #   Column   Non-Null Count  Dtype \n",
            "---  ------   --------------  ----- \n",
            " 0   Name     3752 non-null   object\n",
            " 1   Reviews  3752 non-null   object\n",
            " 2   Ratings  3752 non-null   int64 \n",
            "dtypes: int64(1), object(2)\n",
            "memory usage: 88.1+ KB\n"
          ],
          "name": "stdout"
        }
      ]
    },
    {
      "cell_type": "code",
      "metadata": {
        "colab": {
          "base_uri": "https://localhost:8080/",
          "height": 284
        },
        "id": "G_LUwaeqrhgL",
        "outputId": "cc5533d4-5266-4733-e356-6f570ff1d257"
      },
      "source": [
        "data_df.describe()"
      ],
      "execution_count": 35,
      "outputs": [
        {
          "output_type": "execute_result",
          "data": {
            "text/html": [
              "<div>\n",
              "<style scoped>\n",
              "    .dataframe tbody tr th:only-of-type {\n",
              "        vertical-align: middle;\n",
              "    }\n",
              "\n",
              "    .dataframe tbody tr th {\n",
              "        vertical-align: top;\n",
              "    }\n",
              "\n",
              "    .dataframe thead th {\n",
              "        text-align: right;\n",
              "    }\n",
              "</style>\n",
              "<table border=\"1\" class=\"dataframe\">\n",
              "  <thead>\n",
              "    <tr style=\"text-align: right;\">\n",
              "      <th></th>\n",
              "      <th>Ratings</th>\n",
              "    </tr>\n",
              "  </thead>\n",
              "  <tbody>\n",
              "    <tr>\n",
              "      <th>count</th>\n",
              "      <td>3752.000000</td>\n",
              "    </tr>\n",
              "    <tr>\n",
              "      <th>mean</th>\n",
              "      <td>3.673241</td>\n",
              "    </tr>\n",
              "    <tr>\n",
              "      <th>std</th>\n",
              "      <td>1.560253</td>\n",
              "    </tr>\n",
              "    <tr>\n",
              "      <th>min</th>\n",
              "      <td>1.000000</td>\n",
              "    </tr>\n",
              "    <tr>\n",
              "      <th>25%</th>\n",
              "      <td>2.000000</td>\n",
              "    </tr>\n",
              "    <tr>\n",
              "      <th>50%</th>\n",
              "      <td>4.000000</td>\n",
              "    </tr>\n",
              "    <tr>\n",
              "      <th>75%</th>\n",
              "      <td>5.000000</td>\n",
              "    </tr>\n",
              "    <tr>\n",
              "      <th>max</th>\n",
              "      <td>5.000000</td>\n",
              "    </tr>\n",
              "  </tbody>\n",
              "</table>\n",
              "</div>"
            ],
            "text/plain": [
              "           Ratings\n",
              "count  3752.000000\n",
              "mean      3.673241\n",
              "std       1.560253\n",
              "min       1.000000\n",
              "25%       2.000000\n",
              "50%       4.000000\n",
              "75%       5.000000\n",
              "max       5.000000"
            ]
          },
          "metadata": {
            "tags": []
          },
          "execution_count": 35
        }
      ]
    },
    {
      "cell_type": "code",
      "metadata": {
        "colab": {
          "base_uri": "https://localhost:8080/",
          "height": 239
        },
        "id": "obqvZbbax2ZH",
        "outputId": "f88bb287-290f-463f-e4b2-23ee46775462"
      },
      "source": [
        "data_df.plot(kind = 'box', subplots = True , layout = (4,4) , sharex = False , figsize = ( 20 , 16 ))\n",
        "mat.pyplot.show(block=False)"
      ],
      "execution_count": 36,
      "outputs": [
        {
          "output_type": "display_data",
          "data": {
            "image/png": "[encoded data removed]",
            "text/plain": [
              "<Figure size 1440x1152 with 16 Axes>"
            ]
          },
          "metadata": {
            "tags": []
          }
        }
      ]
    },
    {
      "cell_type": "code",
      "metadata": {
        "id": "GXP8lxUgzEaI"
      },
      "source": [
        "import seaborn as sns"
      ],
      "execution_count": 37,
      "outputs": []
    },
    {
      "cell_type": "code",
      "metadata": {
        "id": "DnVaBxBUzMgM"
      },
      "source": [
        "avg_ratings = data_df.groupby('Name').aggregate({'Ratings':'mean'})\n",
        "avg_ratings = avg_ratings.reset_index()"
      ],
      "execution_count": 38,
      "outputs": []
    },
    {
      "cell_type": "code",
      "metadata": {
        "colab": {
          "base_uri": "https://localhost:8080/",
          "height": 314
        },
        "id": "wAjoOfEezo13",
        "outputId": "53bab3ec-ae49-4ce0-ebc3-2a4542a4ab5b"
      },
      "source": [
        "avg_ratings"
      ],
      "execution_count": 39,
      "outputs": [
        {
          "output_type": "execute_result",
          "data": {
            "text/html": [
              "<div>\n",
              "<style scoped>\n",
              "    .dataframe tbody tr th:only-of-type {\n",
              "        vertical-align: middle;\n",
              "    }\n",
              "\n",
              "    .dataframe tbody tr th {\n",
              "        vertical-align: top;\n",
              "    }\n",
              "\n",
              "    .dataframe thead th {\n",
              "        text-align: right;\n",
              "    }\n",
              "</style>\n",
              "<table border=\"1\" class=\"dataframe\">\n",
              "  <thead>\n",
              "    <tr style=\"text-align: right;\">\n",
              "      <th></th>\n",
              "      <th>Name</th>\n",
              "      <th>Ratings</th>\n",
              "    </tr>\n",
              "  </thead>\n",
              "  <tbody>\n",
              "    <tr>\n",
              "      <th>0</th>\n",
              "      <td>BIGGERFIVE-Fitness-Activity</td>\n",
              "      <td>3.973684</td>\n",
              "    </tr>\n",
              "    <tr>\n",
              "      <th>1</th>\n",
              "      <td>Fitbit-Fitness-Activity</td>\n",
              "      <td>2.634000</td>\n",
              "    </tr>\n",
              "    <tr>\n",
              "      <th>2</th>\n",
              "      <td>Fitbit-Inspire-Fitness</td>\n",
              "      <td>3.079000</td>\n",
              "    </tr>\n",
              "    <tr>\n",
              "      <th>3</th>\n",
              "      <td>Fitness-Tracker-Activity-Pedometer-Bracelet</td>\n",
              "      <td>4.257732</td>\n",
              "    </tr>\n",
              "    <tr>\n",
              "      <th>4</th>\n",
              "      <td>Fitpolo-Trackers-Waterproof</td>\n",
              "      <td>4.329810</td>\n",
              "    </tr>\n",
              "    <tr>\n",
              "      <th>5</th>\n",
              "      <td>Huawei-Activity-Bangle</td>\n",
              "      <td>3.375000</td>\n",
              "    </tr>\n",
              "    <tr>\n",
              "      <th>6</th>\n",
              "      <td>LETSCOM-Resistant-Activity</td>\n",
              "      <td>3.882000</td>\n",
              "    </tr>\n",
              "    <tr>\n",
              "      <th>7</th>\n",
              "      <td>Xiaomi-Band-Wristband-Magnetic-Bluetooth</td>\n",
              "      <td>4.227273</td>\n",
              "    </tr>\n",
              "    <tr>\n",
              "      <th>8</th>\n",
              "      <td>YAMAY-Fitness-Waterproof</td>\n",
              "      <td>4.422000</td>\n",
              "    </tr>\n",
              "  </tbody>\n",
              "</table>\n",
              "</div>"
            ],
            "text/plain": [
              "                                          Name   Ratings\n",
              "0                  BIGGERFIVE-Fitness-Activity  3.973684\n",
              "1                      Fitbit-Fitness-Activity  2.634000\n",
              "2                       Fitbit-Inspire-Fitness  3.079000\n",
              "3  Fitness-Tracker-Activity-Pedometer-Bracelet  4.257732\n",
              "4                  Fitpolo-Trackers-Waterproof  4.329810\n",
              "5                       Huawei-Activity-Bangle  3.375000\n",
              "6                   LETSCOM-Resistant-Activity  3.882000\n",
              "7     Xiaomi-Band-Wristband-Magnetic-Bluetooth  4.227273\n",
              "8                     YAMAY-Fitness-Waterproof  4.422000"
            ]
          },
          "metadata": {
            "tags": []
          },
          "execution_count": 39
        }
      ]
    },
    {
      "cell_type": "code",
      "metadata": {
        "colab": {
          "base_uri": "https://localhost:8080/",
          "height": 316
        },
        "id": "YFVla_c8z1jA",
        "outputId": "6677dcb9-4fe1-4431-f55f-ad9cba68f978"
      },
      "source": [
        "sns.set()\n",
        "mat.pyplot.figure(figsize=(15, 4))\n",
        "ax = sns.lineplot(x='Name', y='Ratings', data=avg_ratings, n_boot=1000, seed = 10,\\\n",
        "legend ='brief', color = 'black')\n",
        "ax.set(xticks=avg_ratings['Name'].values)\n",
        "mat.pyplot.xlabel(\"Names\")\n",
        "mat.pyplot.ylabel(\"Avg Ratings\")\n",
        "mat.pyplot.title(\"Average Ratings for various brands\\n\")\n",
        "mat.pyplot.show()"
      ],
      "execution_count": 40,
      "outputs": [
        {
          "output_type": "display_data",
          "data": {
            "image/png": "[encoded data removed]",
            "text/plain": [
              "<Figure size 1080x288 with 1 Axes>"
            ]
          },
          "metadata": {
            "tags": []
          }
        }
      ]
    },
    {
      "cell_type": "code",
      "metadata": {
        "id": "FoO7loO-0Q7e"
      },
      "source": [
        "xiomi_df = data_df.where()"
      ],
      "execution_count": 29,
      "outputs": []
    },
    {
      "cell_type": "code",
      "metadata": {
        "id": "RMfVVgO-1SaU"
      },
      "source": [
        ""
      ],
      "execution_count": null,
      "outputs": []
    }
  ]
}