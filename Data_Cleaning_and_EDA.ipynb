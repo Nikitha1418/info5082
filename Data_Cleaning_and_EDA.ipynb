{
  "nbformat": 4,
  "nbformat_minor": 0,
  "metadata": {
    "colab": {
      "name": "Data Cleaning and EDA.ipynb",
      "provenance": [],
      "include_colab_link": true
    },
    "kernelspec": {
      "name": "python3",
      "display_name": "Python 3"
    },
    "language_info": {
      "name": "python"
    }
  },
  "cells": [
    {
      "cell_type": "markdown",
      "metadata": {
        "id": "view-in-github",
        "colab_type": "text"
      },
      "source": [
        "<a href=\"https://colab.research.google.com/github/Nikitha1418/info5082/blob/main/Data_Cleaning_and_EDA.ipynb\" target=\"_parent\"><img src=\"https://colab.research.google.com/assets/colab-badge.svg\" alt=\"Open In Colab\"/></a>"
      ]
    },
    {
      "cell_type": "code",
      "metadata": {
        "id": "SuV07_JrqeWo"
      },
      "source": [
        "import pandas as pd\n",
        "import matplotlib as mat"
      ],
      "execution_count": null,
      "outputs": []
    },
    {
      "cell_type": "code",
      "metadata": {
        "id": "2aTXZtaDqg84"
      },
      "source": [
        "data_df = pd.read_csv(\"/content/reviews.csv\")"
      ],
      "execution_count": null,
      "outputs": []
    },
    {
      "cell_type": "code",
      "metadata": {
        "id": "x4KW-DzUqrXc"
      },
      "source": [
        "data_df"
      ],
      "execution_count": null,
      "outputs": []
    },
    {
      "cell_type": "markdown",
      "metadata": {
        "id": "0GusXIrDqxxm"
      },
      "source": [
        "#EXPLORATORY DATA ANALYSIS"
      ]
    },
    {
      "cell_type": "code",
      "metadata": {
        "colab": {
          "base_uri": "https://localhost:8080/",
          "height": 399
        },
        "id": "wN2huFkHqwEV",
        "outputId": "260cb0bb-cac7-47a3-93b1-269d037f9f70"
      },
      "source": [
        "data_df.isnull()"
      ],
      "execution_count": null,
      "outputs": [
        {
          "output_type": "execute_result",
          "data": {
            "text/html": [
              "<div>\n",
              "<style scoped>\n",
              "    .dataframe tbody tr th:only-of-type {\n",
              "        vertical-align: middle;\n",
              "    }\n",
              "\n",
              "    .dataframe tbody tr th {\n",
              "        vertical-align: top;\n",
              "    }\n",
              "\n",
              "    .dataframe thead th {\n",
              "        text-align: right;\n",
              "    }\n",
              "</style>\n",
              "<table border=\"1\" class=\"dataframe\">\n",
              "  <thead>\n",
              "    <tr style=\"text-align: right;\">\n",
              "      <th></th>\n",
              "      <th>Name</th>\n",
              "      <th>Reviews</th>\n",
              "      <th>Ratings</th>\n",
              "    </tr>\n",
              "  </thead>\n",
              "  <tbody>\n",
              "    <tr>\n",
              "      <th>0</th>\n",
              "      <td>False</td>\n",
              "      <td>False</td>\n",
              "      <td>False</td>\n",
              "    </tr>\n",
              "    <tr>\n",
              "      <th>1</th>\n",
              "      <td>False</td>\n",
              "      <td>False</td>\n",
              "      <td>False</td>\n",
              "    </tr>\n",
              "    <tr>\n",
              "      <th>2</th>\n",
              "      <td>False</td>\n",
              "      <td>False</td>\n",
              "      <td>False</td>\n",
              "    </tr>\n",
              "    <tr>\n",
              "      <th>3</th>\n",
              "      <td>False</td>\n",
              "      <td>False</td>\n",
              "      <td>False</td>\n",
              "    </tr>\n",
              "    <tr>\n",
              "      <th>4</th>\n",
              "      <td>False</td>\n",
              "      <td>False</td>\n",
              "      <td>False</td>\n",
              "    </tr>\n",
              "    <tr>\n",
              "      <th>...</th>\n",
              "      <td>...</td>\n",
              "      <td>...</td>\n",
              "      <td>...</td>\n",
              "    </tr>\n",
              "    <tr>\n",
              "      <th>3747</th>\n",
              "      <td>False</td>\n",
              "      <td>False</td>\n",
              "      <td>False</td>\n",
              "    </tr>\n",
              "    <tr>\n",
              "      <th>3748</th>\n",
              "      <td>False</td>\n",
              "      <td>False</td>\n",
              "      <td>False</td>\n",
              "    </tr>\n",
              "    <tr>\n",
              "      <th>3749</th>\n",
              "      <td>False</td>\n",
              "      <td>False</td>\n",
              "      <td>False</td>\n",
              "    </tr>\n",
              "    <tr>\n",
              "      <th>3750</th>\n",
              "      <td>False</td>\n",
              "      <td>False</td>\n",
              "      <td>False</td>\n",
              "    </tr>\n",
              "    <tr>\n",
              "      <th>3751</th>\n",
              "      <td>False</td>\n",
              "      <td>False</td>\n",
              "      <td>False</td>\n",
              "    </tr>\n",
              "  </tbody>\n",
              "</table>\n",
              "<p>3752 rows × 3 columns</p>\n",
              "</div>"
            ],
            "text/plain": [
              "       Name  Reviews  Ratings\n",
              "0     False    False    False\n",
              "1     False    False    False\n",
              "2     False    False    False\n",
              "3     False    False    False\n",
              "4     False    False    False\n",
              "...     ...      ...      ...\n",
              "3747  False    False    False\n",
              "3748  False    False    False\n",
              "3749  False    False    False\n",
              "3750  False    False    False\n",
              "3751  False    False    False\n",
              "\n",
              "[3752 rows x 3 columns]"
            ]
          },
          "metadata": {
            "tags": []
          },
          "execution_count": 5
        }
      ]
    },
    {
      "cell_type": "code",
      "metadata": {
        "colab": {
          "base_uri": "https://localhost:8080/"
        },
        "id": "b46Xn9qkreiR",
        "outputId": "d31d62cf-d5ed-4b04-c93f-2cb69a42c5a8"
      },
      "source": [
        "data_df.info()"
      ],
      "execution_count": null,
      "outputs": [
        {
          "output_type": "stream",
          "text": [
            "<class 'pandas.core.frame.DataFrame'>\n",
            "RangeIndex: 3752 entries, 0 to 3751\n",
            "Data columns (total 3 columns):\n",
            " #   Column   Non-Null Count  Dtype \n",
            "---  ------   --------------  ----- \n",
            " 0   Name     3752 non-null   object\n",
            " 1   Reviews  3752 non-null   object\n",
            " 2   Ratings  3752 non-null   int64 \n",
            "dtypes: int64(1), object(2)\n",
            "memory usage: 88.1+ KB\n"
          ],
          "name": "stdout"
        }
      ]
    },
    {
      "cell_type": "code",
      "metadata": {
        "colab": {
          "base_uri": "https://localhost:8080/",
          "height": 282
        },
        "id": "G_LUwaeqrhgL",
        "outputId": "bb020b8f-9ad6-4373-be28-b7f0c09f1a53"
      },
      "source": [
        "data_df.describe()"
      ],
      "execution_count": null,
      "outputs": [
        {
          "output_type": "execute_result",
          "data": {
            "text/html": [
              "<div>\n",
              "<style scoped>\n",
              "    .dataframe tbody tr th:only-of-type {\n",
              "        vertical-align: middle;\n",
              "    }\n",
              "\n",
              "    .dataframe tbody tr th {\n",
              "        vertical-align: top;\n",
              "    }\n",
              "\n",
              "    .dataframe thead th {\n",
              "        text-align: right;\n",
              "    }\n",
              "</style>\n",
              "<table border=\"1\" class=\"dataframe\">\n",
              "  <thead>\n",
              "    <tr style=\"text-align: right;\">\n",
              "      <th></th>\n",
              "      <th>Ratings</th>\n",
              "    </tr>\n",
              "  </thead>\n",
              "  <tbody>\n",
              "    <tr>\n",
              "      <th>count</th>\n",
              "      <td>3752.000000</td>\n",
              "    </tr>\n",
              "    <tr>\n",
              "      <th>mean</th>\n",
              "      <td>3.673241</td>\n",
              "    </tr>\n",
              "    <tr>\n",
              "      <th>std</th>\n",
              "      <td>1.560253</td>\n",
              "    </tr>\n",
              "    <tr>\n",
              "      <th>min</th>\n",
              "      <td>1.000000</td>\n",
              "    </tr>\n",
              "    <tr>\n",
              "      <th>25%</th>\n",
              "      <td>2.000000</td>\n",
              "    </tr>\n",
              "    <tr>\n",
              "      <th>50%</th>\n",
              "      <td>4.000000</td>\n",
              "    </tr>\n",
              "    <tr>\n",
              "      <th>75%</th>\n",
              "      <td>5.000000</td>\n",
              "    </tr>\n",
              "    <tr>\n",
              "      <th>max</th>\n",
              "      <td>5.000000</td>\n",
              "    </tr>\n",
              "  </tbody>\n",
              "</table>\n",
              "</div>"
            ],
            "text/plain": [
              "           Ratings\n",
              "count  3752.000000\n",
              "mean      3.673241\n",
              "std       1.560253\n",
              "min       1.000000\n",
              "25%       2.000000\n",
              "50%       4.000000\n",
              "75%       5.000000\n",
              "max       5.000000"
            ]
          },
          "metadata": {
            "tags": []
          },
          "execution_count": 7
        }
      ]
    },
    {
      "cell_type": "markdown",
      "metadata": {
        "id": "R73_IpGKV0b7"
      },
      "source": [
        "#Data Cleaning"
      ]
    },
    {
      "cell_type": "code",
      "metadata": {
        "id": "GRg5NGijV3jR"
      },
      "source": [
        "#Removal of special characters:\n",
        "import re\n",
        "data_df['cleaned_data'] = data_df['Reviews'].apply(lambda x: ''.join(re.sub(r\"[^a-zA-Z0-9]+\", ' ', charctr) for charctr in x ))"
      ],
      "execution_count": null,
      "outputs": []
    },
    {
      "cell_type": "code",
      "metadata": {
        "id": "txDLyXBHVz-S"
      },
      "source": [
        "#Convert to lower case\n",
        "data_df['cleaned_data'] = data_df['cleaned_data'].apply(lambda x: \" \".join(x.lower() for x in x.split()))"
      ],
      "execution_count": null,
      "outputs": []
    },
    {
      "cell_type": "code",
      "metadata": {
        "id": "mcmtWLd7WjqI"
      },
      "source": [
        "#remove numbers\n",
        "data_df['cleaned_data'] = data_df['cleaned_data'].str.replace('\\d+', '')"
      ],
      "execution_count": null,
      "outputs": []
    },
    {
      "cell_type": "code",
      "metadata": {
        "colab": {
          "base_uri": "https://localhost:8080/"
        },
        "id": "dnUET54FW0NB",
        "outputId": "38566a82-5db5-4b99-c547-b76ad3e3df9a"
      },
      "source": [
        "import nltk\n",
        "nltk.download('stopwords')\n",
        "import re\n",
        "from nltk.corpus import stopwords\n",
        "from nltk.stem import PorterStemmer\n",
        "from textblob import Word\n",
        "import nltk"
      ],
      "execution_count": null,
      "outputs": [
        {
          "output_type": "stream",
          "text": [
            "[nltk_data] Downloading package stopwords to /root/nltk_data...\n",
            "[nltk_data]   Unzipping corpora/stopwords.zip.\n"
          ],
          "name": "stdout"
        }
      ]
    },
    {
      "cell_type": "code",
      "metadata": {
        "id": "_cAsHIuRaJD4"
      },
      "source": [
        "#Removing stopwords by using stopwordslist\n",
        "\n",
        "stop = stopwords.words('english')\n",
        "data_df['cleaned_data'] = data_df['cleaned_data'].apply(lambda x: \" \".join(x for x in x.split() if x not in stop))"
      ],
      "execution_count": null,
      "outputs": []
    },
    {
      "cell_type": "code",
      "metadata": {
        "colab": {
          "base_uri": "https://localhost:8080/",
          "height": 399
        },
        "id": "ztxk7TxraPNx",
        "outputId": "b1039a0e-b9b3-46bf-b92c-1894536e3c89"
      },
      "source": [
        "data_df"
      ],
      "execution_count": null,
      "outputs": [
        {
          "output_type": "execute_result",
          "data": {
            "text/html": [
              "<div>\n",
              "<style scoped>\n",
              "    .dataframe tbody tr th:only-of-type {\n",
              "        vertical-align: middle;\n",
              "    }\n",
              "\n",
              "    .dataframe tbody tr th {\n",
              "        vertical-align: top;\n",
              "    }\n",
              "\n",
              "    .dataframe thead th {\n",
              "        text-align: right;\n",
              "    }\n",
              "</style>\n",
              "<table border=\"1\" class=\"dataframe\">\n",
              "  <thead>\n",
              "    <tr style=\"text-align: right;\">\n",
              "      <th></th>\n",
              "      <th>Name</th>\n",
              "      <th>Reviews</th>\n",
              "      <th>Ratings</th>\n",
              "      <th>cleaned_data</th>\n",
              "    </tr>\n",
              "  </thead>\n",
              "  <tbody>\n",
              "    <tr>\n",
              "      <th>0</th>\n",
              "      <td>Xiaomi-Band-Wristband-Magnetic-Bluetooth</td>\n",
              "      <td>TLDR: After owning a $150 FitBit and a $35 L...</td>\n",
              "      <td>5</td>\n",
              "      <td>tldr owning fitbit letsfit tracker blows water...</td>\n",
              "    </tr>\n",
              "    <tr>\n",
              "      <th>1</th>\n",
              "      <td>Xiaomi-Band-Wristband-Magnetic-Bluetooth</td>\n",
              "      <td>It's just mandarin, english, russian and spa...</td>\n",
              "      <td>1</td>\n",
              "      <td>mandarin english russian spanish global global...</td>\n",
              "    </tr>\n",
              "    <tr>\n",
              "      <th>2</th>\n",
              "      <td>Xiaomi-Band-Wristband-Magnetic-Bluetooth</td>\n",
              "      <td>I’m a Xiaomi fan so I may be a little lenien...</td>\n",
              "      <td>3</td>\n",
              "      <td>xiaomi fan may little lenient less harsh opini...</td>\n",
              "    </tr>\n",
              "    <tr>\n",
              "      <th>3</th>\n",
              "      <td>Xiaomi-Band-Wristband-Magnetic-Bluetooth</td>\n",
              "      <td>Love it so much!I mainly just need something...</td>\n",
              "      <td>5</td>\n",
              "      <td>love much mainly need something tracks steps a...</td>\n",
              "    </tr>\n",
              "    <tr>\n",
              "      <th>4</th>\n",
              "      <td>Xiaomi-Band-Wristband-Magnetic-Bluetooth</td>\n",
              "      <td>I paired this with my iPhone, my S7 and my M...</td>\n",
              "      <td>4</td>\n",
              "      <td>paired iphone mi like general example use take...</td>\n",
              "    </tr>\n",
              "    <tr>\n",
              "      <th>...</th>\n",
              "      <td>...</td>\n",
              "      <td>...</td>\n",
              "      <td>...</td>\n",
              "      <td>...</td>\n",
              "    </tr>\n",
              "    <tr>\n",
              "      <th>3747</th>\n",
              "      <td>Fitpolo-Trackers-Waterproof</td>\n",
              "      <td>I love it</td>\n",
              "      <td>5</td>\n",
              "      <td>love</td>\n",
              "    </tr>\n",
              "    <tr>\n",
              "      <th>3748</th>\n",
              "      <td>Fitpolo-Trackers-Waterproof</td>\n",
              "      <td>Love this watch</td>\n",
              "      <td>5</td>\n",
              "      <td>love watch</td>\n",
              "    </tr>\n",
              "    <tr>\n",
              "      <th>3749</th>\n",
              "      <td>Fitpolo-Trackers-Waterproof</td>\n",
              "      <td>This fitness tracker is cool and foolproof w...</td>\n",
              "      <td>5</td>\n",
              "      <td>fitness tracker cool foolproof large number de...</td>\n",
              "    </tr>\n",
              "    <tr>\n",
              "      <th>3750</th>\n",
              "      <td>Fitpolo-Trackers-Waterproof</td>\n",
              "      <td>One of the best part of this watch is it’s h...</td>\n",
              "      <td>5</td>\n",
              "      <td>one best part watch heart rate accurate long l...</td>\n",
              "    </tr>\n",
              "    <tr>\n",
              "      <th>3751</th>\n",
              "      <td>Fitpolo-Trackers-Waterproof</td>\n",
              "      <td>Have hade one of these for previous version ...</td>\n",
              "      <td>5</td>\n",
              "      <td>hade one previous version earbuds several year...</td>\n",
              "    </tr>\n",
              "  </tbody>\n",
              "</table>\n",
              "<p>3752 rows × 4 columns</p>\n",
              "</div>"
            ],
            "text/plain": [
              "                                          Name  ...                                       cleaned_data\n",
              "0     Xiaomi-Band-Wristband-Magnetic-Bluetooth  ...  tldr owning fitbit letsfit tracker blows water...\n",
              "1     Xiaomi-Band-Wristband-Magnetic-Bluetooth  ...  mandarin english russian spanish global global...\n",
              "2     Xiaomi-Band-Wristband-Magnetic-Bluetooth  ...  xiaomi fan may little lenient less harsh opini...\n",
              "3     Xiaomi-Band-Wristband-Magnetic-Bluetooth  ...  love much mainly need something tracks steps a...\n",
              "4     Xiaomi-Band-Wristband-Magnetic-Bluetooth  ...  paired iphone mi like general example use take...\n",
              "...                                        ...  ...                                                ...\n",
              "3747               Fitpolo-Trackers-Waterproof  ...                                               love\n",
              "3748               Fitpolo-Trackers-Waterproof  ...                                         love watch\n",
              "3749               Fitpolo-Trackers-Waterproof  ...  fitness tracker cool foolproof large number de...\n",
              "3750               Fitpolo-Trackers-Waterproof  ...  one best part watch heart rate accurate long l...\n",
              "3751               Fitpolo-Trackers-Waterproof  ...  hade one previous version earbuds several year...\n",
              "\n",
              "[3752 rows x 4 columns]"
            ]
          },
          "metadata": {
            "tags": []
          },
          "execution_count": 13
        }
      ]
    },
    {
      "cell_type": "markdown",
      "metadata": {
        "id": "6f0v5lUHXRXk"
      },
      "source": [
        "#Exploratory data analysis"
      ]
    },
    {
      "cell_type": "code",
      "metadata": {
        "colab": {
          "base_uri": "https://localhost:8080/",
          "height": 237
        },
        "id": "obqvZbbax2ZH",
        "outputId": "8c8fd660-c7b9-4600-81be-1f132204f046"
      },
      "source": [
        "data_df.plot(kind = 'box', subplots = True , layout = (4,4) , sharex = False , figsize = ( 20 , 16 ))\n",
        "mat.pyplot.show(block=False)"
      ],
      "execution_count": null,
      "outputs": [
        {
          "output_type": "display_data",
          "data": {
            "image/png": "[encoded data removed]",
            "text/plain": [
              "<Figure size 1440x1152 with 16 Axes>"
            ]
          },
          "metadata": {
            "tags": [],
            "needs_background": "light"
          }
        }
      ]
    },
    {
      "cell_type": "code",
      "metadata": {
        "id": "GXP8lxUgzEaI"
      },
      "source": [
        "import seaborn as sns"
      ],
      "execution_count": null,
      "outputs": []
    },
    {
      "cell_type": "code",
      "metadata": {
        "id": "DnVaBxBUzMgM"
      },
      "source": [
        "avg_ratings = data_df.groupby('Name').aggregate({'Ratings':'mean'})\n",
        "avg_ratings = avg_ratings.reset_index()"
      ],
      "execution_count": null,
      "outputs": []
    },
    {
      "cell_type": "code",
      "metadata": {
        "colab": {
          "base_uri": "https://localhost:8080/",
          "height": 311
        },
        "id": "wAjoOfEezo13",
        "outputId": "361961a9-7544-477a-9c31-926c9b7f8502"
      },
      "source": [
        "avg_ratings"
      ],
      "execution_count": null,
      "outputs": [
        {
          "output_type": "execute_result",
          "data": {
            "text/html": [
              "<div>\n",
              "<style scoped>\n",
              "    .dataframe tbody tr th:only-of-type {\n",
              "        vertical-align: middle;\n",
              "    }\n",
              "\n",
              "    .dataframe tbody tr th {\n",
              "        vertical-align: top;\n",
              "    }\n",
              "\n",
              "    .dataframe thead th {\n",
              "        text-align: right;\n",
              "    }\n",
              "</style>\n",
              "<table border=\"1\" class=\"dataframe\">\n",
              "  <thead>\n",
              "    <tr style=\"text-align: right;\">\n",
              "      <th></th>\n",
              "      <th>Name</th>\n",
              "      <th>Ratings</th>\n",
              "    </tr>\n",
              "  </thead>\n",
              "  <tbody>\n",
              "    <tr>\n",
              "      <th>0</th>\n",
              "      <td>BIGGERFIVE-Fitness-Activity</td>\n",
              "      <td>3.973684</td>\n",
              "    </tr>\n",
              "    <tr>\n",
              "      <th>1</th>\n",
              "      <td>Fitbit-Fitness-Activity</td>\n",
              "      <td>2.634000</td>\n",
              "    </tr>\n",
              "    <tr>\n",
              "      <th>2</th>\n",
              "      <td>Fitbit-Inspire-Fitness</td>\n",
              "      <td>3.079000</td>\n",
              "    </tr>\n",
              "    <tr>\n",
              "      <th>3</th>\n",
              "      <td>Fitness-Tracker-Activity-Pedometer-Bracelet</td>\n",
              "      <td>4.257732</td>\n",
              "    </tr>\n",
              "    <tr>\n",
              "      <th>4</th>\n",
              "      <td>Fitpolo-Trackers-Waterproof</td>\n",
              "      <td>4.329810</td>\n",
              "    </tr>\n",
              "    <tr>\n",
              "      <th>5</th>\n",
              "      <td>Huawei-Activity-Bangle</td>\n",
              "      <td>3.375000</td>\n",
              "    </tr>\n",
              "    <tr>\n",
              "      <th>6</th>\n",
              "      <td>LETSCOM-Resistant-Activity</td>\n",
              "      <td>3.882000</td>\n",
              "    </tr>\n",
              "    <tr>\n",
              "      <th>7</th>\n",
              "      <td>Xiaomi-Band-Wristband-Magnetic-Bluetooth</td>\n",
              "      <td>4.227273</td>\n",
              "    </tr>\n",
              "    <tr>\n",
              "      <th>8</th>\n",
              "      <td>YAMAY-Fitness-Waterproof</td>\n",
              "      <td>4.422000</td>\n",
              "    </tr>\n",
              "  </tbody>\n",
              "</table>\n",
              "</div>"
            ],
            "text/plain": [
              "                                          Name   Ratings\n",
              "0                  BIGGERFIVE-Fitness-Activity  3.973684\n",
              "1                      Fitbit-Fitness-Activity  2.634000\n",
              "2                       Fitbit-Inspire-Fitness  3.079000\n",
              "3  Fitness-Tracker-Activity-Pedometer-Bracelet  4.257732\n",
              "4                  Fitpolo-Trackers-Waterproof  4.329810\n",
              "5                       Huawei-Activity-Bangle  3.375000\n",
              "6                   LETSCOM-Resistant-Activity  3.882000\n",
              "7     Xiaomi-Band-Wristband-Magnetic-Bluetooth  4.227273\n",
              "8                     YAMAY-Fitness-Waterproof  4.422000"
            ]
          },
          "metadata": {
            "tags": []
          },
          "execution_count": 17
        }
      ]
    },
    {
      "cell_type": "code",
      "metadata": {
        "colab": {
          "base_uri": "https://localhost:8080/",
          "height": 316
        },
        "id": "YFVla_c8z1jA",
        "outputId": "d4c33e85-288f-4599-c861-c6c3d3cb1d52"
      },
      "source": [
        "sns.set()\n",
        "mat.pyplot.figure(figsize=(15, 4))\n",
        "ax = sns.lineplot(x='Name', y='Ratings', data=avg_ratings, n_boot=1000, seed = 10,\n",
        "legend ='brief', color = 'black')\n",
        "ax.set(xticks=avg_ratings['Name'].values)\n",
        "mat.pyplot.xlabel(\"Names\")\n",
        "mat.pyplot.ylabel(\"Avg Ratings\")\n",
        "mat.pyplot.title(\"Average Ratings for various brands\\n\")\n",
        "mat.pyplot.show()"
      ],
      "execution_count": null,
      "outputs": [
        {
          "output_type": "display_data",
          "data": {
            "image/png": "[encoded data removed]",
            "text/plain": [
              "<Figure size 1080x288 with 1 Axes>"
            ]
          },
          "metadata": {
            "tags": []
          }
        }
      ]
    },
    {
      "cell_type": "code",
      "metadata": {
        "id": "t753yIAePIAa",
        "colab": {
          "base_uri": "https://localhost:8080/"
        },
        "outputId": "d53f431b-4a7c-4faa-83ee-145e8a042c5b"
      },
      "source": [
        "import nltk\n",
        "nltk.download('punkt')\n",
        "nltk.download('averaged_perceptron_tagger')"
      ],
      "execution_count": null,
      "outputs": [
        {
          "output_type": "stream",
          "text": [
            "[nltk_data] Downloading package punkt to /root/nltk_data...\n",
            "[nltk_data]   Unzipping tokenizers/punkt.zip.\n",
            "[nltk_data] Downloading package averaged_perceptron_tagger to\n",
            "[nltk_data]     /root/nltk_data...\n",
            "[nltk_data]   Unzipping taggers/averaged_perceptron_tagger.zip.\n"
          ],
          "name": "stdout"
        },
        {
          "output_type": "execute_result",
          "data": {
            "text/plain": [
              "True"
            ]
          },
          "metadata": {
            "tags": []
          },
          "execution_count": 19
        }
      ]
    },
    {
      "cell_type": "code",
      "metadata": {
        "id": "z4TqmCKQNF1W",
        "colab": {
          "base_uri": "https://localhost:8080/"
        },
        "outputId": "ec8a3c15-6367-4474-a83f-7fab1f7d5d97"
      },
      "source": [
        "from sklearn.feature_extraction.text import CountVectorizer\n",
        "from textblob import TextBlob\n",
        "import scipy.stats as stats\n",
        "print(data_df)\n",
        "print(data_df.shape[1])\n",
        "# reviews_df = list()\n",
        "df = data_df['cleaned_data']\n",
        "\n",
        "reviews =  [TextBlob(df[i]).pos_tags for i in range(data_df['cleaned_data'].shape[0])]\n",
        "\n"
      ],
      "execution_count": null,
      "outputs": [
        {
          "output_type": "stream",
          "text": [
            "                                          Name  ...                                       cleaned_data\n",
            "0     Xiaomi-Band-Wristband-Magnetic-Bluetooth  ...  tldr owning fitbit letsfit tracker blows water...\n",
            "1     Xiaomi-Band-Wristband-Magnetic-Bluetooth  ...  mandarin english russian spanish global global...\n",
            "2     Xiaomi-Band-Wristband-Magnetic-Bluetooth  ...  xiaomi fan may little lenient less harsh opini...\n",
            "3     Xiaomi-Band-Wristband-Magnetic-Bluetooth  ...  love much mainly need something tracks steps a...\n",
            "4     Xiaomi-Band-Wristband-Magnetic-Bluetooth  ...  paired iphone mi like general example use take...\n",
            "...                                        ...  ...                                                ...\n",
            "3747               Fitpolo-Trackers-Waterproof  ...                                               love\n",
            "3748               Fitpolo-Trackers-Waterproof  ...                                         love watch\n",
            "3749               Fitpolo-Trackers-Waterproof  ...  fitness tracker cool foolproof large number de...\n",
            "3750               Fitpolo-Trackers-Waterproof  ...  one best part watch heart rate accurate long l...\n",
            "3751               Fitpolo-Trackers-Waterproof  ...  hade one previous version earbuds several year...\n",
            "\n",
            "[3752 rows x 4 columns]\n",
            "4\n"
          ],
          "name": "stdout"
        }
      ]
    },
    {
      "cell_type": "code",
      "metadata": {
        "id": "kwu3QcPXPiZV"
      },
      "source": [
        "reviews_df = pd.DataFrame({'cleaned_data':reviews})\n",
        "word_counts = [] \n",
        "pos_counts = {}\n"
      ],
      "execution_count": null,
      "outputs": []
    },
    {
      "cell_type": "code",
      "metadata": {
        "id": "Vo4gTr_WRJpv",
        "colab": {
          "base_uri": "https://localhost:8080/",
          "height": 399
        },
        "outputId": "2bd39568-68f4-4478-f4fd-9a5a442f2590"
      },
      "source": [
        "reviews_df"
      ],
      "execution_count": null,
      "outputs": [
        {
          "output_type": "execute_result",
          "data": {
            "text/html": [
              "<div>\n",
              "<style scoped>\n",
              "    .dataframe tbody tr th:only-of-type {\n",
              "        vertical-align: middle;\n",
              "    }\n",
              "\n",
              "    .dataframe tbody tr th {\n",
              "        vertical-align: top;\n",
              "    }\n",
              "\n",
              "    .dataframe thead th {\n",
              "        text-align: right;\n",
              "    }\n",
              "</style>\n",
              "<table border=\"1\" class=\"dataframe\">\n",
              "  <thead>\n",
              "    <tr style=\"text-align: right;\">\n",
              "      <th></th>\n",
              "      <th>cleaned_data</th>\n",
              "    </tr>\n",
              "  </thead>\n",
              "  <tbody>\n",
              "    <tr>\n",
              "      <th>0</th>\n",
              "      <td>[(tldr, NN), (owning, VBG), (fitbit, NN), (let...</td>\n",
              "    </tr>\n",
              "    <tr>\n",
              "      <th>1</th>\n",
              "      <td>[(mandarin, NN), (english, JJ), (russian, JJ),...</td>\n",
              "    </tr>\n",
              "    <tr>\n",
              "      <th>2</th>\n",
              "      <td>[(xiaomi, JJ), (fan, NN), (may, MD), (little, ...</td>\n",
              "    </tr>\n",
              "    <tr>\n",
              "      <th>3</th>\n",
              "      <td>[(love, RB), (much, RB), (mainly, RB), (need, ...</td>\n",
              "    </tr>\n",
              "    <tr>\n",
              "      <th>4</th>\n",
              "      <td>[(paired, VBN), (iphone, NN), (mi, NN), (like,...</td>\n",
              "    </tr>\n",
              "    <tr>\n",
              "      <th>...</th>\n",
              "      <td>...</td>\n",
              "    </tr>\n",
              "    <tr>\n",
              "      <th>3747</th>\n",
              "      <td>[(love, NN)]</td>\n",
              "    </tr>\n",
              "    <tr>\n",
              "      <th>3748</th>\n",
              "      <td>[(love, NN), (watch, NN)]</td>\n",
              "    </tr>\n",
              "    <tr>\n",
              "      <th>3749</th>\n",
              "      <td>[(fitness, NN), (tracker, NN), (cool, NN), (fo...</td>\n",
              "    </tr>\n",
              "    <tr>\n",
              "      <th>3750</th>\n",
              "      <td>[(one, CD), (best, JJS), (part, NN), (watch, V...</td>\n",
              "    </tr>\n",
              "    <tr>\n",
              "      <th>3751</th>\n",
              "      <td>[(hade, VB), (one, CD), (previous, JJ), (versi...</td>\n",
              "    </tr>\n",
              "  </tbody>\n",
              "</table>\n",
              "<p>3752 rows × 1 columns</p>\n",
              "</div>"
            ],
            "text/plain": [
              "                                           cleaned_data\n",
              "0     [(tldr, NN), (owning, VBG), (fitbit, NN), (let...\n",
              "1     [(mandarin, NN), (english, JJ), (russian, JJ),...\n",
              "2     [(xiaomi, JJ), (fan, NN), (may, MD), (little, ...\n",
              "3     [(love, RB), (much, RB), (mainly, RB), (need, ...\n",
              "4     [(paired, VBN), (iphone, NN), (mi, NN), (like,...\n",
              "...                                                 ...\n",
              "3747                                       [(love, NN)]\n",
              "3748                          [(love, NN), (watch, NN)]\n",
              "3749  [(fitness, NN), (tracker, NN), (cool, NN), (fo...\n",
              "3750  [(one, CD), (best, JJS), (part, NN), (watch, V...\n",
              "3751  [(hade, VB), (one, CD), (previous, JJ), (versi...\n",
              "\n",
              "[3752 rows x 1 columns]"
            ]
          },
          "metadata": {
            "tags": []
          },
          "execution_count": 22
        }
      ]
    },
    {
      "cell_type": "code",
      "metadata": {
        "id": "VezMyECWPx7n",
        "colab": {
          "base_uri": "https://localhost:8080/"
        },
        "outputId": "552b968a-0e35-4df3-cac9-c4a5e87bad11"
      },
      "source": [
        "import numpy as np\n",
        "for review in reviews_df[u'cleaned_data']:\n",
        "    word_counts.append(len(review))\n",
        "    for tag in review:\n",
        "        if tag[1] in pos_counts:\n",
        "            pos_counts[tag[1]] += 1\n",
        "        else:\n",
        "            pos_counts[tag[1]] = 1\n",
        "            \n",
        "\n",
        "print('Total number of words: ', np.sum(word_counts))\n",
        "print('Mean number of words per review: ', np.mean(word_counts))"
      ],
      "execution_count": null,
      "outputs": [
        {
          "output_type": "stream",
          "text": [
            "Total number of words:  196878\n",
            "Mean number of words per review:  52.4728144989339\n"
          ],
          "name": "stdout"
        }
      ]
    },
    {
      "cell_type": "code",
      "metadata": {
        "id": "hoo2d3e7S3wH",
        "colab": {
          "base_uri": "https://localhost:8080/",
          "height": 366
        },
        "outputId": "fb6e4cd8-6b7f-4721-cdee-2312e43eb578"
      },
      "source": [
        "from matplotlib import pyplot as plt\n",
        "from wordcloud import WordCloud, STOPWORDS\n",
        "stopwords = set(STOPWORDS)\n",
        "\n",
        "def show_wordcloud(data):\n",
        "    wordcloud = WordCloud(\n",
        "        background_color='white',\n",
        "        stopwords=stopwords,\n",
        "        max_words=100,\n",
        "        max_font_size=30,\n",
        "        scale=3,\n",
        "        random_state=1)\n",
        "   \n",
        "    wordcloud=wordcloud.generate(str(data))\n",
        "\n",
        "    fig = plt.figure(1, figsize=(12, 12))\n",
        "    plt.axis('off')\n",
        "\n",
        "    plt.imshow(wordcloud)\n",
        "    plt.show()\n",
        "\n",
        "show_wordcloud(df[0])"
      ],
      "execution_count": null,
      "outputs": [
        {
          "output_type": "display_data",
          "data": {
            "image/png": "[encoded data removed]",
            "text/plain": [
              "<Figure size 864x864 with 1 Axes>"
            ]
          },
          "metadata": {
            "tags": []
          }
        }
      ]
    },
    {
      "cell_type": "code",
      "metadata": {
        "id": "FoO7loO-0Q7e",
        "colab": {
          "base_uri": "https://localhost:8080/",
          "height": 399
        },
        "outputId": "7697e3c1-eac3-4649-b182-329beeabcba3"
      },
      "source": [
        "data_df"
      ],
      "execution_count": null,
      "outputs": [
        {
          "output_type": "execute_result",
          "data": {
            "text/html": [
              "<div>\n",
              "<style scoped>\n",
              "    .dataframe tbody tr th:only-of-type {\n",
              "        vertical-align: middle;\n",
              "    }\n",
              "\n",
              "    .dataframe tbody tr th {\n",
              "        vertical-align: top;\n",
              "    }\n",
              "\n",
              "    .dataframe thead th {\n",
              "        text-align: right;\n",
              "    }\n",
              "</style>\n",
              "<table border=\"1\" class=\"dataframe\">\n",
              "  <thead>\n",
              "    <tr style=\"text-align: right;\">\n",
              "      <th></th>\n",
              "      <th>Name</th>\n",
              "      <th>Reviews</th>\n",
              "      <th>Ratings</th>\n",
              "      <th>cleaned_data</th>\n",
              "    </tr>\n",
              "  </thead>\n",
              "  <tbody>\n",
              "    <tr>\n",
              "      <th>0</th>\n",
              "      <td>Xiaomi-Band-Wristband-Magnetic-Bluetooth</td>\n",
              "      <td>TLDR: After owning a $150 FitBit and a $35 L...</td>\n",
              "      <td>5</td>\n",
              "      <td>tldr owning fitbit letsfit tracker blows water...</td>\n",
              "    </tr>\n",
              "    <tr>\n",
              "      <th>1</th>\n",
              "      <td>Xiaomi-Band-Wristband-Magnetic-Bluetooth</td>\n",
              "      <td>It's just mandarin, english, russian and spa...</td>\n",
              "      <td>1</td>\n",
              "      <td>mandarin english russian spanish global global...</td>\n",
              "    </tr>\n",
              "    <tr>\n",
              "      <th>2</th>\n",
              "      <td>Xiaomi-Band-Wristband-Magnetic-Bluetooth</td>\n",
              "      <td>I’m a Xiaomi fan so I may be a little lenien...</td>\n",
              "      <td>3</td>\n",
              "      <td>xiaomi fan may little lenient less harsh opini...</td>\n",
              "    </tr>\n",
              "    <tr>\n",
              "      <th>3</th>\n",
              "      <td>Xiaomi-Band-Wristband-Magnetic-Bluetooth</td>\n",
              "      <td>Love it so much!I mainly just need something...</td>\n",
              "      <td>5</td>\n",
              "      <td>love much mainly need something tracks steps a...</td>\n",
              "    </tr>\n",
              "    <tr>\n",
              "      <th>4</th>\n",
              "      <td>Xiaomi-Band-Wristband-Magnetic-Bluetooth</td>\n",
              "      <td>I paired this with my iPhone, my S7 and my M...</td>\n",
              "      <td>4</td>\n",
              "      <td>paired iphone mi like general example use take...</td>\n",
              "    </tr>\n",
              "    <tr>\n",
              "      <th>...</th>\n",
              "      <td>...</td>\n",
              "      <td>...</td>\n",
              "      <td>...</td>\n",
              "      <td>...</td>\n",
              "    </tr>\n",
              "    <tr>\n",
              "      <th>3747</th>\n",
              "      <td>Fitpolo-Trackers-Waterproof</td>\n",
              "      <td>I love it</td>\n",
              "      <td>5</td>\n",
              "      <td>love</td>\n",
              "    </tr>\n",
              "    <tr>\n",
              "      <th>3748</th>\n",
              "      <td>Fitpolo-Trackers-Waterproof</td>\n",
              "      <td>Love this watch</td>\n",
              "      <td>5</td>\n",
              "      <td>love watch</td>\n",
              "    </tr>\n",
              "    <tr>\n",
              "      <th>3749</th>\n",
              "      <td>Fitpolo-Trackers-Waterproof</td>\n",
              "      <td>This fitness tracker is cool and foolproof w...</td>\n",
              "      <td>5</td>\n",
              "      <td>fitness tracker cool foolproof large number de...</td>\n",
              "    </tr>\n",
              "    <tr>\n",
              "      <th>3750</th>\n",
              "      <td>Fitpolo-Trackers-Waterproof</td>\n",
              "      <td>One of the best part of this watch is it’s h...</td>\n",
              "      <td>5</td>\n",
              "      <td>one best part watch heart rate accurate long l...</td>\n",
              "    </tr>\n",
              "    <tr>\n",
              "      <th>3751</th>\n",
              "      <td>Fitpolo-Trackers-Waterproof</td>\n",
              "      <td>Have hade one of these for previous version ...</td>\n",
              "      <td>5</td>\n",
              "      <td>hade one previous version earbuds several year...</td>\n",
              "    </tr>\n",
              "  </tbody>\n",
              "</table>\n",
              "<p>3752 rows × 4 columns</p>\n",
              "</div>"
            ],
            "text/plain": [
              "                                          Name  ...                                       cleaned_data\n",
              "0     Xiaomi-Band-Wristband-Magnetic-Bluetooth  ...  tldr owning fitbit letsfit tracker blows water...\n",
              "1     Xiaomi-Band-Wristband-Magnetic-Bluetooth  ...  mandarin english russian spanish global global...\n",
              "2     Xiaomi-Band-Wristband-Magnetic-Bluetooth  ...  xiaomi fan may little lenient less harsh opini...\n",
              "3     Xiaomi-Band-Wristband-Magnetic-Bluetooth  ...  love much mainly need something tracks steps a...\n",
              "4     Xiaomi-Band-Wristband-Magnetic-Bluetooth  ...  paired iphone mi like general example use take...\n",
              "...                                        ...  ...                                                ...\n",
              "3747               Fitpolo-Trackers-Waterproof  ...                                               love\n",
              "3748               Fitpolo-Trackers-Waterproof  ...                                         love watch\n",
              "3749               Fitpolo-Trackers-Waterproof  ...  fitness tracker cool foolproof large number de...\n",
              "3750               Fitpolo-Trackers-Waterproof  ...  one best part watch heart rate accurate long l...\n",
              "3751               Fitpolo-Trackers-Waterproof  ...  hade one previous version earbuds several year...\n",
              "\n",
              "[3752 rows x 4 columns]"
            ]
          },
          "metadata": {
            "tags": []
          },
          "execution_count": 25
        }
      ]
    },
    {
      "cell_type": "code",
      "metadata": {
        "id": "mPAsgBC7TSwY"
      },
      "source": [
        "types_of_trackers = data_df[\"Name\"].unique().tolist()"
      ],
      "execution_count": null,
      "outputs": []
    },
    {
      "cell_type": "code",
      "metadata": {
        "id": "6vbMhvG6T8qg",
        "colab": {
          "base_uri": "https://localhost:8080/",
          "height": 1000
        },
        "outputId": "7dd0159f-a3cc-4329-a066-27f1c624e310"
      },
      "source": [
        "for i in types_of_trackers:\n",
        "  track = data_df[data_df[\"Name\"]==i]['Ratings'].to_frame()\n",
        "  track[\"counts\"] = 1\n",
        "  track = track.groupby('Ratings').aggregate({'counts':'count'}).reset_index()\n",
        "  fig, ax = plt.subplots(figsize=(8,4))\n",
        "  ax.bar(track[\"Ratings\"], track[\"counts\"],color=['Red','green','purple','grey','blue']);\n",
        "  ax.set_xticks(track[\"Ratings\"]);\n",
        "  ax.set_xticklabels(track[\"Ratings\"]);\n",
        "  ax.set_title(i+' Ratings');\n",
        "  ax.set_ylabel('Ratings');"
      ],
      "execution_count": null,
      "outputs": [
        {
          "output_type": "display_data",
          "data": {
            "image/png": "[encoded data removed]",
            "text/plain": [
              "<Figure size 576x288 with 1 Axes>"
            ]
          },
          "metadata": {
            "tags": []
          }
        },
        {
          "output_type": "display_data",
          "data": {
            "image/png": "[encoded data removed]",
            "text/plain": [
              "<Figure size 576x288 with 1 Axes>"
            ]
          },
          "metadata": {
            "tags": []
          }
        },
        {
          "output_type": "display_data",
          "data": {
            "image/png": "[encoded data removed]",
            "text/plain": [
              "<Figure size 576x288 with 1 Axes>"
            ]
          },
          "metadata": {
            "tags": []
          }
        },
        {
          "output_type": "display_data",
          "data": {
            "image/png": "[encoded data removed]",
            "text/plain": [
              "<Figure size 576x288 with 1 Axes>"
            ]
          },
          "metadata": {
            "tags": []
          }
        },
        {
          "output_type": "display_data",
          "data": {
            "image/png": "[encoded data removed]",
            "text/plain": [
              "<Figure size 576x288 with 1 Axes>"
            ]
          },
          "metadata": {
            "tags": []
          }
        },
        {
          "output_type": "display_data",
          "data": {
            "image/png": "[encoded data removed]",
            "text/plain": [
              "<Figure size 576x288 with 1 Axes>"
            ]
          },
          "metadata": {
            "tags": []
          }
        },
        {
          "output_type": "display_data",
          "data": {
            "image/png": "[encoded data removed]",
            "text/plain": [
              "<Figure size 576x288 with 1 Axes>"
            ]
          },
          "metadata": {
            "tags": []
          }
        },
        {
          "output_type": "display_data",
          "data": {
            "image/png": "[encoded data removed]",
            "text/plain": [
              "<Figure size 576x288 with 1 Axes>"
            ]
          },
          "metadata": {
            "tags": []
          }
        },
        {
          "output_type": "display_data",
          "data": {
            "image/png": "[encoded data removed]",
            "text/plain": [
              "<Figure size 576x288 with 1 Axes>"
            ]
          },
          "metadata": {
            "tags": []
          }
        }
      ]
    },
    {
      "cell_type": "code",
      "metadata": {
        "id": "dWGGzj0vbd4W",
        "colab": {
          "base_uri": "https://localhost:8080/",
          "height": 766
        },
        "outputId": "87415d6c-8bcd-432e-bca5-03ca07104f37"
      },
      "source": [
        "fig, ax = plt.subplots(figsize=(16,8))\n",
        "ax.bar(avg_ratings[\"Name\"], avg_ratings[\"Ratings\"], color=\"rgby\");\n",
        "ax.set_xticks(avg_ratings[\"Name\"]);\n",
        "ax.set_xticklabels(avg_ratings[\"Name\"],fontsize=10, rotation='vertical');\n",
        "ax.set_title(\"Average Ratings\");\n",
        "ax.set_ylabel('Mean Ratings');"
      ],
      "execution_count": null,
      "outputs": [
        {
          "output_type": "stream",
          "text": [
            "/usr/local/lib/python3.7/dist-packages/ipykernel_launcher.py:2: MatplotlibDeprecationWarning: Using a string of single character colors as a color sequence is deprecated. Use an explicit list instead.\n",
            "  \n"
          ],
          "name": "stderr"
        },
        {
          "output_type": "display_data",
          "data": {
            "image/png": "[encoded data removed]",
            "text/plain": [
              "<Figure size 1152x576 with 1 Axes>"
            ]
          },
          "metadata": {
            "tags": []
          }
        }
      ]
    },
    {
      "cell_type": "code",
      "metadata": {
        "id": "RMfVVgO-1SaU"
      },
      "source": [
        "def type_of_review(val):\n",
        "  if(int(val)>3):\n",
        "    return \"good\"\n",
        "  elif(int(val)==3):\n",
        "    return \"neutral\"\n",
        "  else:\n",
        "    return \"bad\"\n",
        "  pass"
      ],
      "execution_count": null,
      "outputs": []
    },
    {
      "cell_type": "code",
      "metadata": {
        "id": "2hZkw3_ju3w3"
      },
      "source": [
        "\n",
        "data_df[\"Sentiment\"] = data_df[\"Ratings\"].apply(lambda x : type_of_review(x))"
      ],
      "execution_count": null,
      "outputs": []
    },
    {
      "cell_type": "code",
      "metadata": {
        "id": "G4guaxyZvbdv"
      },
      "source": [
        "def combined_features(row):\n",
        "    return row['Name'] + ' '+ row['Reviews']\n",
        "data_df['all_features'] = data_df.apply(combined_features, axis=1)"
      ],
      "execution_count": null,
      "outputs": []
    },
    {
      "cell_type": "code",
      "metadata": {
        "id": "6j-28Xxpv27C"
      },
      "source": [
        "X = data_df['all_features']\n",
        "y = data_df['Sentiment']"
      ],
      "execution_count": null,
      "outputs": []
    },
    {
      "cell_type": "markdown",
      "metadata": {
        "id": "ALSHUyXodyOo"
      },
      "source": [
        "#**LOGISTIC REGRESSION**"
      ]
    },
    {
      "cell_type": "code",
      "metadata": {
        "id": "OZsnGdTRwIXL"
      },
      "source": [
        "from sklearn.model_selection import train_test_split\n",
        "\n",
        "X_train, X_test, y_train, y_test = train_test_split(X, y, test_size=0.5, random_state=42)"
      ],
      "execution_count": null,
      "outputs": []
    },
    {
      "cell_type": "code",
      "metadata": {
        "id": "4ZfjQsdqwPOm"
      },
      "source": [
        "from sklearn.feature_extraction.text import CountVectorizer\n",
        "cv = CountVectorizer()\n",
        "ctmTr = cv.fit_transform(X_train)\n",
        "X_test_dtm = cv.transform(X_test)"
      ],
      "execution_count": null,
      "outputs": []
    },
    {
      "cell_type": "code",
      "metadata": {
        "colab": {
          "base_uri": "https://localhost:8080/"
        },
        "id": "Zu9ertsIwRXY",
        "outputId": "f3a2f4cb-be65-495c-da1c-419c3152de67"
      },
      "source": [
        "from sklearn.linear_model import LogisticRegression\n",
        "from sklearn.metrics import accuracy_score\n",
        "model = LogisticRegression(solver = 'lbfgs',max_iter = 500,fit_intercept=True)\n",
        "model.fit(ctmTr, y_train)"
      ],
      "execution_count": null,
      "outputs": [
        {
          "output_type": "execute_result",
          "data": {
            "text/plain": [
              "LogisticRegression(C=1.0, class_weight=None, dual=False, fit_intercept=True,\n",
              "                   intercept_scaling=1, l1_ratio=None, max_iter=500,\n",
              "                   multi_class='auto', n_jobs=None, penalty='l2',\n",
              "                   random_state=None, solver='lbfgs', tol=0.0001, verbose=0,\n",
              "                   warm_start=False)"
            ]
          },
          "metadata": {
            "tags": []
          },
          "execution_count": 35
        }
      ]
    },
    {
      "cell_type": "code",
      "metadata": {
        "id": "4EkvhTrHwTMx"
      },
      "source": [
        "y_pred_class = model.predict(X_test_dtm)"
      ],
      "execution_count": null,
      "outputs": []
    },
    {
      "cell_type": "code",
      "metadata": {
        "colab": {
          "base_uri": "https://localhost:8080/"
        },
        "id": "Q35t00WKyEBU",
        "outputId": "f0954337-111b-483a-defe-41af26ff9c6d"
      },
      "source": [
        "y_pred_class"
      ],
      "execution_count": null,
      "outputs": [
        {
          "output_type": "execute_result",
          "data": {
            "text/plain": [
              "array(['good', 'neutral', 'good', ..., 'neutral', 'good', 'neutral'],\n",
              "      dtype=object)"
            ]
          },
          "metadata": {
            "tags": []
          },
          "execution_count": 37
        }
      ]
    },
    {
      "cell_type": "code",
      "metadata": {
        "colab": {
          "base_uri": "https://localhost:8080/"
        },
        "id": "zTXDjx1Kx9FY",
        "outputId": "100acbe6-f1c7-4478-880e-cf5bf69abed9"
      },
      "source": [
        "accuracy_score(y_test, y_pred_class)"
      ],
      "execution_count": null,
      "outputs": [
        {
          "output_type": "execute_result",
          "data": {
            "text/plain": [
              "0.7921108742004265"
            ]
          },
          "metadata": {
            "tags": []
          },
          "execution_count": 38
        }
      ]
    },
    {
      "cell_type": "markdown",
      "metadata": {
        "id": "CtMzE7sNd-c1"
      },
      "source": [
        "#**Machine learning**"
      ]
    },
    {
      "cell_type": "code",
      "metadata": {
        "id": "PJJw4Bd3hPnJ",
        "colab": {
          "base_uri": "https://localhost:8080/"
        },
        "outputId": "54470236-308e-48b6-dd3c-4b52ab860510"
      },
      "source": [
        "from sklearn.feature_extraction.text import TfidfVectorizer\n",
        "from nltk.stem.snowball import SnowballStemmer\n",
        "\n",
        "#create a stemmer\n",
        "stemmer = SnowballStemmer(\"english\")\n",
        "\n",
        "\n",
        "#define our own tokenizing function that we will pass into the TFIDFVectorizer. We will also stem the words here.\n",
        "def tokens(x):\n",
        "    x = x.split()\n",
        "    stems = []\n",
        "    [stems.append(stemmer.stem(word)) for word in x]\n",
        "    return stems\n",
        "\n",
        "vectorizer = TfidfVectorizer(tokenizer = tokens, stop_words = 'english', ngram_range=(1, 1), min_df = 0.01)\n",
        "features = vectorizer.fit_transform(data_df['Reviews'])"
      ],
      "execution_count": null,
      "outputs": [
        {
          "output_type": "stream",
          "text": [
            "/usr/local/lib/python3.7/dist-packages/sklearn/feature_extraction/text.py:385: UserWarning: Your stop_words may be inconsistent with your preprocessing. Tokenizing the stop words generated tokens ['abov', 'afterward', 'alon', 'alreadi', 'alway', 'ani', 'anoth', 'anyon', 'anyth', 'anywher', 'becam', 'becaus', 'becom', 'befor', 'besid', 'cri', 'describ', 'dure', 'els', 'elsewher', 'empti', 'everi', 'everyon', 'everyth', 'everywher', 'fifti', 'forti', 'henc', 'hereaft', 'herebi', 'howev', 'hundr', 'inde', 'mani', 'meanwhil', 'moreov', 'nobodi', 'noon', 'noth', 'nowher', 'onc', 'onli', 'otherwis', 'ourselv', 'perhap', 'pleas', 'sever', 'sinc', 'sincer', 'sixti', 'someon', 'someth', 'sometim', 'somewher', 'themselv', 'thenc', 'thereaft', 'therebi', 'therefor', 'togeth', 'twelv', 'twenti', 'veri', 'whatev', 'whenc', 'whenev', 'wherea', 'whereaft', 'wherebi', 'wherev', 'whi', 'yourselv'] not in stop_words.\n",
            "  'stop_words.' % sorted(inconsistent))\n"
          ],
          "name": "stderr"
        }
      ]
    },
    {
      "cell_type": "code",
      "metadata": {
        "id": "keWPE8RyhKy1"
      },
      "source": [
        "X_train, X_test, y_train, y_test = train_test_split(features, data_df[\"Sentiment\"], test_size=0.5, random_state=42)"
      ],
      "execution_count": null,
      "outputs": []
    },
    {
      "cell_type": "code",
      "metadata": {
        "id": "xygfVaRWgLod",
        "colab": {
          "base_uri": "https://localhost:8080/"
        },
        "outputId": "203ea0a0-8e1f-4ad6-84b7-333aeab62c2e"
      },
      "source": [
        "\n",
        "# Import the supervised learning models from sklearn\n",
        "from sklearn.naive_bayes import GaussianNB\n",
        "from sklearn.ensemble import AdaBoostClassifier\n",
        "from sklearn.ensemble import RandomForestClassifier\n",
        "from sklearn.linear_model import LogisticRegression\n",
        "from sklearn.tree import DecisionTreeClassifier\n",
        "\n",
        "\n",
        "# Initialize the models using a random state were applicable.\n",
        "clf_list = [GaussianNB(), \n",
        "            AdaBoostClassifier(random_state = 30), \n",
        "            RandomForestClassifier(random_state = 30), \n",
        "            LogisticRegression(random_state = 30),\n",
        "            DecisionTreeClassifier(random_state = 30)]\n",
        "x_tr = X_train.toarray()\n",
        "x_te = X_test.toarray()\n",
        "\n",
        "\n",
        "# Set up the training set sizes for 100, 200 and 300 respectively.\n",
        "train_feature_list = [x_tr[0:1876]]\n",
        "train_target_list = [y_train[0:1876]]\n",
        "\n",
        "results = list()\n",
        "# Execute the 'train_predict' function for each of the classifiers and each training set size\n",
        "for clf in clf_list:\n",
        "    for a, b in zip(train_feature_list, train_target_list):\n",
        "        clf.fit(a, b)\n",
        "        y_pred = clf.predict(x_te)\n",
        "        results.append(accuracy_score(y_test, y_pred))\n",
        "\n",
        "Algos = [\"GaussianNB\",\"AdaBoostClassifier\",\"RandomForestClassifier\",\"LogisticRegression\",\"DecisionTreeClassifier\"]\n",
        "\n",
        "for i in range(0,len(Algos)):\n",
        "  print(Algos[i],\"  accuracy is   :\",results[i])\n",
        "        "
      ],
      "execution_count": null,
      "outputs": [
        {
          "output_type": "stream",
          "text": [
            "GaussianNB   accuracy is   : 0.4690831556503198\n",
            "AdaBoostClassifier   accuracy is   : 0.7233475479744137\n",
            "RandomForestClassifier   accuracy is   : 0.7745202558635395\n",
            "LogisticRegression   accuracy is   : 0.7899786780383795\n",
            "DecisionTreeClassifier   accuracy is   : 0.6412579957356077\n"
          ],
          "name": "stdout"
        }
      ]
    },
    {
      "cell_type": "markdown",
      "metadata": {
        "id": "YGlCLXII73BC"
      },
      "source": [
        "#**SENTIMENT ANALYSIS**"
      ]
    },
    {
      "cell_type": "code",
      "metadata": {
        "id": "B-1hp_CggwxG"
      },
      "source": [
        "\n",
        "sentiment_df = data_df[[\"Name\",\"Reviews\",\"cleaned_data\",\"Ratings\",\"Sentiment\"]]"
      ],
      "execution_count": null,
      "outputs": []
    },
    {
      "cell_type": "code",
      "metadata": {
        "colab": {
          "base_uri": "https://localhost:8080/",
          "height": 1000
        },
        "id": "G6HG7SzC8Q6G",
        "outputId": "4f3de032-6469-4e2b-ebd6-eb3cbba1899d"
      },
      "source": [
        "sentiment_df"
      ],
      "execution_count": null,
      "outputs": [
        {
          "output_type": "execute_result",
          "data": {
            "text/html": [
              "<div>\n",
              "<style scoped>\n",
              "    .dataframe tbody tr th:only-of-type {\n",
              "        vertical-align: middle;\n",
              "    }\n",
              "\n",
              "    .dataframe tbody tr th {\n",
              "        vertical-align: top;\n",
              "    }\n",
              "\n",
              "    .dataframe thead th {\n",
              "        text-align: right;\n",
              "    }\n",
              "</style>\n",
              "<table border=\"1\" class=\"dataframe\">\n",
              "  <thead>\n",
              "    <tr style=\"text-align: right;\">\n",
              "      <th></th>\n",
              "      <th>Name</th>\n",
              "      <th>Reviews</th>\n",
              "      <th>cleaned_data</th>\n",
              "      <th>Ratings</th>\n",
              "      <th>Sentiment</th>\n",
              "    </tr>\n",
              "  </thead>\n",
              "  <tbody>\n",
              "    <tr>\n",
              "      <th>0</th>\n",
              "      <td>Xiaomi-Band-Wristband-Magnetic-Bluetooth</td>\n",
              "      <td>TLDR: After owning a $150 FitBit and a $35 L...</td>\n",
              "      <td>tldr owning fitbit letsfit tracker blows water...</td>\n",
              "      <td>5</td>\n",
              "      <td>good</td>\n",
              "    </tr>\n",
              "    <tr>\n",
              "      <th>1</th>\n",
              "      <td>Xiaomi-Band-Wristband-Magnetic-Bluetooth</td>\n",
              "      <td>It's just mandarin, english, russian and spa...</td>\n",
              "      <td>mandarin english russian spanish global global...</td>\n",
              "      <td>1</td>\n",
              "      <td>bad</td>\n",
              "    </tr>\n",
              "    <tr>\n",
              "      <th>2</th>\n",
              "      <td>Xiaomi-Band-Wristband-Magnetic-Bluetooth</td>\n",
              "      <td>I’m a Xiaomi fan so I may be a little lenien...</td>\n",
              "      <td>xiaomi fan may little lenient less harsh opini...</td>\n",
              "      <td>3</td>\n",
              "      <td>neutral</td>\n",
              "    </tr>\n",
              "    <tr>\n",
              "      <th>3</th>\n",
              "      <td>Xiaomi-Band-Wristband-Magnetic-Bluetooth</td>\n",
              "      <td>Love it so much!I mainly just need something...</td>\n",
              "      <td>love much mainly need something tracks steps a...</td>\n",
              "      <td>5</td>\n",
              "      <td>good</td>\n",
              "    </tr>\n",
              "    <tr>\n",
              "      <th>4</th>\n",
              "      <td>Xiaomi-Band-Wristband-Magnetic-Bluetooth</td>\n",
              "      <td>I paired this with my iPhone, my S7 and my M...</td>\n",
              "      <td>paired iphone mi like general example use take...</td>\n",
              "      <td>4</td>\n",
              "      <td>good</td>\n",
              "    </tr>\n",
              "    <tr>\n",
              "      <th>5</th>\n",
              "      <td>Xiaomi-Band-Wristband-Magnetic-Bluetooth</td>\n",
              "      <td>Great smart band, the product is well design...</td>\n",
              "      <td>great smart band product well designed functio...</td>\n",
              "      <td>5</td>\n",
              "      <td>good</td>\n",
              "    </tr>\n",
              "    <tr>\n",
              "      <th>6</th>\n",
              "      <td>Xiaomi-Band-Wristband-Magnetic-Bluetooth</td>\n",
              "      <td>Works great except when I try the freestyle ...</td>\n",
              "      <td>works great except try freestyle workout mode ...</td>\n",
              "      <td>3</td>\n",
              "      <td>neutral</td>\n",
              "    </tr>\n",
              "    <tr>\n",
              "      <th>7</th>\n",
              "      <td>Xiaomi-Band-Wristband-Magnetic-Bluetooth</td>\n",
              "      <td>It is a great piece of tracking equipment, I...</td>\n",
              "      <td>great piece tracking equipment wear nice watch...</td>\n",
              "      <td>5</td>\n",
              "      <td>good</td>\n",
              "    </tr>\n",
              "    <tr>\n",
              "      <th>8</th>\n",
              "      <td>Xiaomi-Band-Wristband-Magnetic-Bluetooth</td>\n",
              "      <td>Well only had it two weeks. Came undone rand...</td>\n",
              "      <td>well two weeks came undone randomly three time...</td>\n",
              "      <td>1</td>\n",
              "      <td>bad</td>\n",
              "    </tr>\n",
              "    <tr>\n",
              "      <th>9</th>\n",
              "      <td>Xiaomi-Band-Wristband-Magnetic-Bluetooth</td>\n",
              "      <td>Junk. Bought for sleep tracking and it track...</td>\n",
              "      <td>junk bought sleep tracking tracks nothing miss...</td>\n",
              "      <td>1</td>\n",
              "      <td>bad</td>\n",
              "    </tr>\n",
              "    <tr>\n",
              "      <th>10</th>\n",
              "      <td>Xiaomi-Band-Wristband-Magnetic-Bluetooth</td>\n",
              "      <td>TLDR: After owning a $150 FitBit and a $35 L...</td>\n",
              "      <td>tldr owning fitbit letsfit tracker blows water...</td>\n",
              "      <td>5</td>\n",
              "      <td>good</td>\n",
              "    </tr>\n",
              "    <tr>\n",
              "      <th>11</th>\n",
              "      <td>Xiaomi-Band-Wristband-Magnetic-Bluetooth</td>\n",
              "      <td>It's just mandarin, english, russian and spa...</td>\n",
              "      <td>mandarin english russian spanish global global...</td>\n",
              "      <td>1</td>\n",
              "      <td>bad</td>\n",
              "    </tr>\n",
              "    <tr>\n",
              "      <th>12</th>\n",
              "      <td>Xiaomi-Band-Wristband-Magnetic-Bluetooth</td>\n",
              "      <td>I’m a Xiaomi fan so I may be a little lenien...</td>\n",
              "      <td>xiaomi fan may little lenient less harsh opini...</td>\n",
              "      <td>3</td>\n",
              "      <td>neutral</td>\n",
              "    </tr>\n",
              "    <tr>\n",
              "      <th>13</th>\n",
              "      <td>Xiaomi-Band-Wristband-Magnetic-Bluetooth</td>\n",
              "      <td>Love it so much!I mainly just need something...</td>\n",
              "      <td>love much mainly need something tracks steps a...</td>\n",
              "      <td>5</td>\n",
              "      <td>good</td>\n",
              "    </tr>\n",
              "    <tr>\n",
              "      <th>14</th>\n",
              "      <td>Xiaomi-Band-Wristband-Magnetic-Bluetooth</td>\n",
              "      <td>I paired this with my iPhone, my S7 and my M...</td>\n",
              "      <td>paired iphone mi like general example use take...</td>\n",
              "      <td>4</td>\n",
              "      <td>good</td>\n",
              "    </tr>\n",
              "    <tr>\n",
              "      <th>15</th>\n",
              "      <td>Xiaomi-Band-Wristband-Magnetic-Bluetooth</td>\n",
              "      <td>Great smart band, the product is well design...</td>\n",
              "      <td>great smart band product well designed functio...</td>\n",
              "      <td>5</td>\n",
              "      <td>good</td>\n",
              "    </tr>\n",
              "    <tr>\n",
              "      <th>16</th>\n",
              "      <td>Xiaomi-Band-Wristband-Magnetic-Bluetooth</td>\n",
              "      <td>Works great except when I try the freestyle ...</td>\n",
              "      <td>works great except try freestyle workout mode ...</td>\n",
              "      <td>3</td>\n",
              "      <td>neutral</td>\n",
              "    </tr>\n",
              "    <tr>\n",
              "      <th>17</th>\n",
              "      <td>Xiaomi-Band-Wristband-Magnetic-Bluetooth</td>\n",
              "      <td>It is a great piece of tracking equipment, I...</td>\n",
              "      <td>great piece tracking equipment wear nice watch...</td>\n",
              "      <td>5</td>\n",
              "      <td>good</td>\n",
              "    </tr>\n",
              "    <tr>\n",
              "      <th>18</th>\n",
              "      <td>Xiaomi-Band-Wristband-Magnetic-Bluetooth</td>\n",
              "      <td>Well only had it two weeks. Came undone rand...</td>\n",
              "      <td>well two weeks came undone randomly three time...</td>\n",
              "      <td>1</td>\n",
              "      <td>bad</td>\n",
              "    </tr>\n",
              "    <tr>\n",
              "      <th>19</th>\n",
              "      <td>Xiaomi-Band-Wristband-Magnetic-Bluetooth</td>\n",
              "      <td>Junk. Bought for sleep tracking and it track...</td>\n",
              "      <td>junk bought sleep tracking tracks nothing miss...</td>\n",
              "      <td>1</td>\n",
              "      <td>bad</td>\n",
              "    </tr>\n",
              "    <tr>\n",
              "      <th>20</th>\n",
              "      <td>Xiaomi-Band-Wristband-Magnetic-Bluetooth</td>\n",
              "      <td>Everything appears to work fine with the Mi ...</td>\n",
              "      <td>everything appears work fine mi fit taken pool...</td>\n",
              "      <td>2</td>\n",
              "      <td>bad</td>\n",
              "    </tr>\n",
              "    <tr>\n",
              "      <th>21</th>\n",
              "      <td>Xiaomi-Band-Wristband-Magnetic-Bluetooth</td>\n",
              "      <td>I have been using this product for last 1 mo...</td>\n",
              "      <td>using product last month every single day wris...</td>\n",
              "      <td>4</td>\n",
              "      <td>good</td>\n",
              "    </tr>\n",
              "    <tr>\n",
              "      <th>22</th>\n",
              "      <td>Xiaomi-Band-Wristband-Magnetic-Bluetooth</td>\n",
              "      <td>I love this cheap thing. It works well for t...</td>\n",
              "      <td>love cheap thing works well price music still ...</td>\n",
              "      <td>5</td>\n",
              "      <td>good</td>\n",
              "    </tr>\n",
              "    <tr>\n",
              "      <th>23</th>\n",
              "      <td>Xiaomi-Band-Wristband-Magnetic-Bluetooth</td>\n",
              "      <td>I did like several things about this tracker...</td>\n",
              "      <td>like several things tracker nice size comforta...</td>\n",
              "      <td>3</td>\n",
              "      <td>neutral</td>\n",
              "    </tr>\n",
              "    <tr>\n",
              "      <th>24</th>\n",
              "      <td>Xiaomi-Band-Wristband-Magnetic-Bluetooth</td>\n",
              "      <td>Mi Smart Band 5 is not officially released i...</td>\n",
              "      <td>mi smart band officially released usa cannot s...</td>\n",
              "      <td>5</td>\n",
              "      <td>good</td>\n",
              "    </tr>\n",
              "    <tr>\n",
              "      <th>25</th>\n",
              "      <td>Xiaomi-Band-Wristband-Magnetic-Bluetooth</td>\n",
              "      <td>ComfortThe band is lightweight and comfortab...</td>\n",
              "      <td>comfortthe band lightweight comfortable someon...</td>\n",
              "      <td>4</td>\n",
              "      <td>good</td>\n",
              "    </tr>\n",
              "    <tr>\n",
              "      <th>26</th>\n",
              "      <td>Xiaomi-Band-Wristband-Magnetic-Bluetooth</td>\n",
              "      <td>At first I was almost disappointed because t...</td>\n",
              "      <td>first almost disappointed product arrived box ...</td>\n",
              "      <td>5</td>\n",
              "      <td>good</td>\n",
              "    </tr>\n",
              "    <tr>\n",
              "      <th>27</th>\n",
              "      <td>Xiaomi-Band-Wristband-Magnetic-Bluetooth</td>\n",
              "      <td>I previously had a Fitbit Alta. This has way...</td>\n",
              "      <td>previously fitbit alta way features way less c...</td>\n",
              "      <td>5</td>\n",
              "      <td>good</td>\n",
              "    </tr>\n",
              "    <tr>\n",
              "      <th>28</th>\n",
              "      <td>Xiaomi-Band-Wristband-Magnetic-Bluetooth</td>\n",
              "      <td>I have a Samsung band that has barely been l...</td>\n",
              "      <td>samsung band barely lasting day even extras be...</td>\n",
              "      <td>5</td>\n",
              "      <td>good</td>\n",
              "    </tr>\n",
              "    <tr>\n",
              "      <th>29</th>\n",
              "      <td>Xiaomi-Band-Wristband-Magnetic-Bluetooth</td>\n",
              "      <td>Wrist band was difficult to put on and didn'...</td>\n",
              "      <td>wrist band difficult put stay secure give accu...</td>\n",
              "      <td>1</td>\n",
              "      <td>bad</td>\n",
              "    </tr>\n",
              "    <tr>\n",
              "      <th>30</th>\n",
              "      <td>Xiaomi-Band-Wristband-Magnetic-Bluetooth</td>\n",
              "      <td>This is by far the best band you're going to...</td>\n",
              "      <td>far best band going get price could believe fr...</td>\n",
              "      <td>5</td>\n",
              "      <td>good</td>\n",
              "    </tr>\n",
              "    <tr>\n",
              "      <th>31</th>\n",
              "      <td>Xiaomi-Band-Wristband-Magnetic-Bluetooth</td>\n",
              "      <td>Heart rate sensor seems to be defective, I u...</td>\n",
              "      <td>heart rate sensor seems defective used miband ...</td>\n",
              "      <td>1</td>\n",
              "      <td>bad</td>\n",
              "    </tr>\n",
              "    <tr>\n",
              "      <th>32</th>\n",
              "      <td>Xiaomi-Band-Wristband-Magnetic-Bluetooth</td>\n",
              "      <td>I bought this tracker to encourage me to inc...</td>\n",
              "      <td>bought tracker encourage increase steps works ...</td>\n",
              "      <td>4</td>\n",
              "      <td>good</td>\n",
              "    </tr>\n",
              "    <tr>\n",
              "      <th>33</th>\n",
              "      <td>Xiaomi-Band-Wristband-Magnetic-Bluetooth</td>\n",
              "      <td>The product works fine especially for price....</td>\n",
              "      <td>product works fine especially price band comfo...</td>\n",
              "      <td>2</td>\n",
              "      <td>bad</td>\n",
              "    </tr>\n",
              "    <tr>\n",
              "      <th>34</th>\n",
              "      <td>Xiaomi-Band-Wristband-Magnetic-Bluetooth</td>\n",
              "      <td>Bought this for my 13 year old son. Many fea...</td>\n",
              "      <td>bought year old son many features apple watch ...</td>\n",
              "      <td>4</td>\n",
              "      <td>good</td>\n",
              "    </tr>\n",
              "    <tr>\n",
              "      <th>35</th>\n",
              "      <td>Xiaomi-Band-Wristband-Magnetic-Bluetooth</td>\n",
              "      <td>I actually wanted an Amazfit band 5 (also ma...</td>\n",
              "      <td>actually wanted amazfit band also made xiaomi ...</td>\n",
              "      <td>5</td>\n",
              "      <td>good</td>\n",
              "    </tr>\n",
              "    <tr>\n",
              "      <th>36</th>\n",
              "      <td>Xiaomi-Band-Wristband-Magnetic-Bluetooth</td>\n",
              "      <td>I bought this Mi Band 5 to keep track of my ...</td>\n",
              "      <td>bought mi band keep track sleep patterns momen...</td>\n",
              "      <td>3</td>\n",
              "      <td>neutral</td>\n",
              "    </tr>\n",
              "    <tr>\n",
              "      <th>37</th>\n",
              "      <td>Xiaomi-Band-Wristband-Magnetic-Bluetooth</td>\n",
              "      <td>so I bought this to replace Mi 3band since I...</td>\n",
              "      <td>bought replace mi band since issues connecting...</td>\n",
              "      <td>1</td>\n",
              "      <td>bad</td>\n",
              "    </tr>\n",
              "    <tr>\n",
              "      <th>38</th>\n",
              "      <td>Xiaomi-Band-Wristband-Magnetic-Bluetooth</td>\n",
              "      <td>It's a nifty little device. Hard to beat for...</td>\n",
              "      <td>nifty little device hard beat price think main...</td>\n",
              "      <td>4</td>\n",
              "      <td>good</td>\n",
              "    </tr>\n",
              "    <tr>\n",
              "      <th>39</th>\n",
              "      <td>Xiaomi-Band-Wristband-Magnetic-Bluetooth</td>\n",
              "      <td>After my Fitbit Alta HR died after about two...</td>\n",
              "      <td>fitbit alta hr died two years purchased mi ban...</td>\n",
              "      <td>5</td>\n",
              "      <td>good</td>\n",
              "    </tr>\n",
              "    <tr>\n",
              "      <th>40</th>\n",
              "      <td>Xiaomi-Band-Wristband-Magnetic-Bluetooth</td>\n",
              "      <td>I use my new Xiaomi Mi Band 5 for tracking m...</td>\n",
              "      <td>use new xiaomi mi band tracking rowing love us...</td>\n",
              "      <td>5</td>\n",
              "      <td>good</td>\n",
              "    </tr>\n",
              "    <tr>\n",
              "      <th>41</th>\n",
              "      <td>Xiaomi-Band-Wristband-Magnetic-Bluetooth</td>\n",
              "      <td>I had Fitbit, Samsung, and Garmin before. On...</td>\n",
              "      <td>fitbit samsung garmin one day saw mi band amaz...</td>\n",
              "      <td>5</td>\n",
              "      <td>good</td>\n",
              "    </tr>\n",
              "    <tr>\n",
              "      <th>42</th>\n",
              "      <td>Xiaomi-Band-Wristband-Magnetic-Bluetooth</td>\n",
              "      <td>This is a great fitness band as long as you ...</td>\n",
              "      <td>great fitness band long buying sleep tracking ...</td>\n",
              "      <td>3</td>\n",
              "      <td>neutral</td>\n",
              "    </tr>\n",
              "    <tr>\n",
              "      <th>43</th>\n",
              "      <td>Xiaomi-Band-Wristband-Magnetic-Bluetooth</td>\n",
              "      <td>Wow.  I got this for my wife because she nev...</td>\n",
              "      <td>wow got wife never wears watch would nice yo g...</td>\n",
              "      <td>5</td>\n",
              "      <td>good</td>\n",
              "    </tr>\n",
              "    <tr>\n",
              "      <th>44</th>\n",
              "      <td>Xiaomi-Band-Wristband-Magnetic-Bluetooth</td>\n",
              "      <td>I found my self in a dilemma and 1st class p...</td>\n",
              "      <td>found self dilemma st class problem started ge...</td>\n",
              "      <td>5</td>\n",
              "      <td>good</td>\n",
              "    </tr>\n",
              "    <tr>\n",
              "      <th>45</th>\n",
              "      <td>Xiaomi-Band-Wristband-Magnetic-Bluetooth</td>\n",
              "      <td>I have used the band 4 for a few months and ...</td>\n",
              "      <td>used band months keep time gotten used hands t...</td>\n",
              "      <td>5</td>\n",
              "      <td>good</td>\n",
              "    </tr>\n",
              "    <tr>\n",
              "      <th>46</th>\n",
              "      <td>Xiaomi-Band-Wristband-Magnetic-Bluetooth</td>\n",
              "      <td>Stylish, good software. I really like it.</td>\n",
              "      <td>stylish good software really like</td>\n",
              "      <td>5</td>\n",
              "      <td>good</td>\n",
              "    </tr>\n",
              "    <tr>\n",
              "      <th>47</th>\n",
              "      <td>Xiaomi-Band-Wristband-Magnetic-Bluetooth</td>\n",
              "      <td>I watched some video on YouTube that this is...</td>\n",
              "      <td>watched video youtube best smart watch android...</td>\n",
              "      <td>2</td>\n",
              "      <td>bad</td>\n",
              "    </tr>\n",
              "    <tr>\n",
              "      <th>48</th>\n",
              "      <td>Xiaomi-Band-Wristband-Magnetic-Bluetooth</td>\n",
              "      <td>After using the watch a couple days a really...</td>\n",
              "      <td>using watch couple days really enjoyed lot fea...</td>\n",
              "      <td>2</td>\n",
              "      <td>bad</td>\n",
              "    </tr>\n",
              "    <tr>\n",
              "      <th>49</th>\n",
              "      <td>Xiaomi-Band-Wristband-Magnetic-Bluetooth</td>\n",
              "      <td>The watch is fine for the price but it isn't...</td>\n",
              "      <td>watch fine price tracking sleep everything ena...</td>\n",
              "      <td>3</td>\n",
              "      <td>neutral</td>\n",
              "    </tr>\n",
              "  </tbody>\n",
              "</table>\n",
              "</div>"
            ],
            "text/plain": [
              "                                        Name  ... Sentiment\n",
              "0   Xiaomi-Band-Wristband-Magnetic-Bluetooth  ...      good\n",
              "1   Xiaomi-Band-Wristband-Magnetic-Bluetooth  ...       bad\n",
              "2   Xiaomi-Band-Wristband-Magnetic-Bluetooth  ...   neutral\n",
              "3   Xiaomi-Band-Wristband-Magnetic-Bluetooth  ...      good\n",
              "4   Xiaomi-Band-Wristband-Magnetic-Bluetooth  ...      good\n",
              "5   Xiaomi-Band-Wristband-Magnetic-Bluetooth  ...      good\n",
              "6   Xiaomi-Band-Wristband-Magnetic-Bluetooth  ...   neutral\n",
              "7   Xiaomi-Band-Wristband-Magnetic-Bluetooth  ...      good\n",
              "8   Xiaomi-Band-Wristband-Magnetic-Bluetooth  ...       bad\n",
              "9   Xiaomi-Band-Wristband-Magnetic-Bluetooth  ...       bad\n",
              "10  Xiaomi-Band-Wristband-Magnetic-Bluetooth  ...      good\n",
              "11  Xiaomi-Band-Wristband-Magnetic-Bluetooth  ...       bad\n",
              "12  Xiaomi-Band-Wristband-Magnetic-Bluetooth  ...   neutral\n",
              "13  Xiaomi-Band-Wristband-Magnetic-Bluetooth  ...      good\n",
              "14  Xiaomi-Band-Wristband-Magnetic-Bluetooth  ...      good\n",
              "15  Xiaomi-Band-Wristband-Magnetic-Bluetooth  ...      good\n",
              "16  Xiaomi-Band-Wristband-Magnetic-Bluetooth  ...   neutral\n",
              "17  Xiaomi-Band-Wristband-Magnetic-Bluetooth  ...      good\n",
              "18  Xiaomi-Band-Wristband-Magnetic-Bluetooth  ...       bad\n",
              "19  Xiaomi-Band-Wristband-Magnetic-Bluetooth  ...       bad\n",
              "20  Xiaomi-Band-Wristband-Magnetic-Bluetooth  ...       bad\n",
              "21  Xiaomi-Band-Wristband-Magnetic-Bluetooth  ...      good\n",
              "22  Xiaomi-Band-Wristband-Magnetic-Bluetooth  ...      good\n",
              "23  Xiaomi-Band-Wristband-Magnetic-Bluetooth  ...   neutral\n",
              "24  Xiaomi-Band-Wristband-Magnetic-Bluetooth  ...      good\n",
              "25  Xiaomi-Band-Wristband-Magnetic-Bluetooth  ...      good\n",
              "26  Xiaomi-Band-Wristband-Magnetic-Bluetooth  ...      good\n",
              "27  Xiaomi-Band-Wristband-Magnetic-Bluetooth  ...      good\n",
              "28  Xiaomi-Band-Wristband-Magnetic-Bluetooth  ...      good\n",
              "29  Xiaomi-Band-Wristband-Magnetic-Bluetooth  ...       bad\n",
              "30  Xiaomi-Band-Wristband-Magnetic-Bluetooth  ...      good\n",
              "31  Xiaomi-Band-Wristband-Magnetic-Bluetooth  ...       bad\n",
              "32  Xiaomi-Band-Wristband-Magnetic-Bluetooth  ...      good\n",
              "33  Xiaomi-Band-Wristband-Magnetic-Bluetooth  ...       bad\n",
              "34  Xiaomi-Band-Wristband-Magnetic-Bluetooth  ...      good\n",
              "35  Xiaomi-Band-Wristband-Magnetic-Bluetooth  ...      good\n",
              "36  Xiaomi-Band-Wristband-Magnetic-Bluetooth  ...   neutral\n",
              "37  Xiaomi-Band-Wristband-Magnetic-Bluetooth  ...       bad\n",
              "38  Xiaomi-Band-Wristband-Magnetic-Bluetooth  ...      good\n",
              "39  Xiaomi-Band-Wristband-Magnetic-Bluetooth  ...      good\n",
              "40  Xiaomi-Band-Wristband-Magnetic-Bluetooth  ...      good\n",
              "41  Xiaomi-Band-Wristband-Magnetic-Bluetooth  ...      good\n",
              "42  Xiaomi-Band-Wristband-Magnetic-Bluetooth  ...   neutral\n",
              "43  Xiaomi-Band-Wristband-Magnetic-Bluetooth  ...      good\n",
              "44  Xiaomi-Band-Wristband-Magnetic-Bluetooth  ...      good\n",
              "45  Xiaomi-Band-Wristband-Magnetic-Bluetooth  ...      good\n",
              "46  Xiaomi-Band-Wristband-Magnetic-Bluetooth  ...      good\n",
              "47  Xiaomi-Band-Wristband-Magnetic-Bluetooth  ...       bad\n",
              "48  Xiaomi-Band-Wristband-Magnetic-Bluetooth  ...       bad\n",
              "49  Xiaomi-Band-Wristband-Magnetic-Bluetooth  ...   neutral\n",
              "\n",
              "[50 rows x 5 columns]"
            ]
          },
          "metadata": {
            "tags": []
          },
          "execution_count": 69
        }
      ]
    },
    {
      "cell_type": "code",
      "metadata": {
        "id": "k_3YejX_8WJI"
      },
      "source": [
        "from textblob import TextBlob\n",
        "from textblob.sentiments import NaiveBayesAnalyzer"
      ],
      "execution_count": null,
      "outputs": []
    },
    {
      "cell_type": "code",
      "metadata": {
        "id": "KTxs75Z29Kca",
        "colab": {
          "base_uri": "https://localhost:8080/"
        },
        "outputId": "0ca698aa-25b7-4f32-814c-ef824e6cc91e"
      },
      "source": [
        "import nltk\n",
        "nltk.download('movie_reviews')\n"
      ],
      "execution_count": null,
      "outputs": [
        {
          "output_type": "stream",
          "text": [
            "[nltk_data] Downloading package movie_reviews to /root/nltk_data...\n",
            "[nltk_data]   Package movie_reviews is already up-to-date!\n"
          ],
          "name": "stdout"
        },
        {
          "output_type": "execute_result",
          "data": {
            "text/plain": [
              "True"
            ]
          },
          "metadata": {
            "tags": []
          },
          "execution_count": 71
        }
      ]
    },
    {
      "cell_type": "code",
      "metadata": {
        "id": "j1ocSZaw8c_S"
      },
      "source": [
        "def sentiments(ip):\n",
        "  blob_object = TextBlob(ip, analyzer=NaiveBayesAnalyzer())\n",
        "  return blob_object.sentiment\n"
      ],
      "execution_count": null,
      "outputs": []
    },
    {
      "cell_type": "code",
      "metadata": {
        "id": "dbxhuauA8vII"
      },
      "source": [
        "sentiment_df[\"new_sentiment\"] = sentiment_df[\"cleaned_data\"].apply(lambda x: sentiments(x))"
      ],
      "execution_count": null,
      "outputs": []
    },
    {
      "cell_type": "code",
      "metadata": {
        "id": "jxWAksNq8-gx",
        "colab": {
          "base_uri": "https://localhost:8080/",
          "height": 1000
        },
        "outputId": "2c01df90-7084-4305-b4c4-5ff9256f538d"
      },
      "source": [
        "sentiment_df"
      ],
      "execution_count": null,
      "outputs": [
        {
          "output_type": "execute_result",
          "data": {
            "text/html": [
              "<div>\n",
              "<style scoped>\n",
              "    .dataframe tbody tr th:only-of-type {\n",
              "        vertical-align: middle;\n",
              "    }\n",
              "\n",
              "    .dataframe tbody tr th {\n",
              "        vertical-align: top;\n",
              "    }\n",
              "\n",
              "    .dataframe thead th {\n",
              "        text-align: right;\n",
              "    }\n",
              "</style>\n",
              "<table border=\"1\" class=\"dataframe\">\n",
              "  <thead>\n",
              "    <tr style=\"text-align: right;\">\n",
              "      <th></th>\n",
              "      <th>Name</th>\n",
              "      <th>Reviews</th>\n",
              "      <th>cleaned_data</th>\n",
              "      <th>Ratings</th>\n",
              "      <th>Sentiment</th>\n",
              "      <th>new_sentiment</th>\n",
              "    </tr>\n",
              "  </thead>\n",
              "  <tbody>\n",
              "    <tr>\n",
              "      <th>0</th>\n",
              "      <td>Xiaomi-Band-Wristband-Magnetic-Bluetooth</td>\n",
              "      <td>TLDR: After owning a $150 FitBit and a $35 L...</td>\n",
              "      <td>tldr owning fitbit letsfit tracker blows water...</td>\n",
              "      <td>5</td>\n",
              "      <td>good</td>\n",
              "      <td>(pos, 0.9999995126774143, 4.873225958380809e-07)</td>\n",
              "    </tr>\n",
              "    <tr>\n",
              "      <th>1</th>\n",
              "      <td>Xiaomi-Band-Wristband-Magnetic-Bluetooth</td>\n",
              "      <td>It's just mandarin, english, russian and spa...</td>\n",
              "      <td>mandarin english russian spanish global global...</td>\n",
              "      <td>1</td>\n",
              "      <td>bad</td>\n",
              "      <td>(pos, 0.9894876319569249, 0.010512368043077395)</td>\n",
              "    </tr>\n",
              "    <tr>\n",
              "      <th>2</th>\n",
              "      <td>Xiaomi-Band-Wristband-Magnetic-Bluetooth</td>\n",
              "      <td>I’m a Xiaomi fan so I may be a little lenien...</td>\n",
              "      <td>xiaomi fan may little lenient less harsh opini...</td>\n",
              "      <td>3</td>\n",
              "      <td>neutral</td>\n",
              "      <td>(pos, 0.9945864698577637, 0.005413530142221735)</td>\n",
              "    </tr>\n",
              "    <tr>\n",
              "      <th>3</th>\n",
              "      <td>Xiaomi-Band-Wristband-Magnetic-Bluetooth</td>\n",
              "      <td>Love it so much!I mainly just need something...</td>\n",
              "      <td>love much mainly need something tracks steps a...</td>\n",
              "      <td>5</td>\n",
              "      <td>good</td>\n",
              "      <td>(pos, 0.9707324161429082, 0.02926758385709185)</td>\n",
              "    </tr>\n",
              "    <tr>\n",
              "      <th>4</th>\n",
              "      <td>Xiaomi-Band-Wristband-Magnetic-Bluetooth</td>\n",
              "      <td>I paired this with my iPhone, my S7 and my M...</td>\n",
              "      <td>paired iphone mi like general example use take...</td>\n",
              "      <td>4</td>\n",
              "      <td>good</td>\n",
              "      <td>(pos, 0.9448484320334675, 0.055151567966536315)</td>\n",
              "    </tr>\n",
              "    <tr>\n",
              "      <th>5</th>\n",
              "      <td>Xiaomi-Band-Wristband-Magnetic-Bluetooth</td>\n",
              "      <td>Great smart band, the product is well design...</td>\n",
              "      <td>great smart band product well designed functio...</td>\n",
              "      <td>5</td>\n",
              "      <td>good</td>\n",
              "      <td>(neg, 0.4832517558695721, 0.5167482441304236)</td>\n",
              "    </tr>\n",
              "    <tr>\n",
              "      <th>6</th>\n",
              "      <td>Xiaomi-Band-Wristband-Magnetic-Bluetooth</td>\n",
              "      <td>Works great except when I try the freestyle ...</td>\n",
              "      <td>works great except try freestyle workout mode ...</td>\n",
              "      <td>3</td>\n",
              "      <td>neutral</td>\n",
              "      <td>(pos, 0.9996067365224075, 0.0003932634775917917)</td>\n",
              "    </tr>\n",
              "    <tr>\n",
              "      <th>7</th>\n",
              "      <td>Xiaomi-Band-Wristband-Magnetic-Bluetooth</td>\n",
              "      <td>It is a great piece of tracking equipment, I...</td>\n",
              "      <td>great piece tracking equipment wear nice watch...</td>\n",
              "      <td>5</td>\n",
              "      <td>good</td>\n",
              "      <td>(pos, 0.9006859679863615, 0.09931403201364321)</td>\n",
              "    </tr>\n",
              "    <tr>\n",
              "      <th>8</th>\n",
              "      <td>Xiaomi-Band-Wristband-Magnetic-Bluetooth</td>\n",
              "      <td>Well only had it two weeks. Came undone rand...</td>\n",
              "      <td>well two weeks came undone randomly three time...</td>\n",
              "      <td>1</td>\n",
              "      <td>bad</td>\n",
              "      <td>(pos, 0.6340843476664003, 0.3659156523335955)</td>\n",
              "    </tr>\n",
              "    <tr>\n",
              "      <th>9</th>\n",
              "      <td>Xiaomi-Band-Wristband-Magnetic-Bluetooth</td>\n",
              "      <td>Junk. Bought for sleep tracking and it track...</td>\n",
              "      <td>junk bought sleep tracking tracks nothing miss...</td>\n",
              "      <td>1</td>\n",
              "      <td>bad</td>\n",
              "      <td>(neg, 0.08388196666404077, 0.9161180333359645)</td>\n",
              "    </tr>\n",
              "    <tr>\n",
              "      <th>10</th>\n",
              "      <td>Xiaomi-Band-Wristband-Magnetic-Bluetooth</td>\n",
              "      <td>TLDR: After owning a $150 FitBit and a $35 L...</td>\n",
              "      <td>tldr owning fitbit letsfit tracker blows water...</td>\n",
              "      <td>5</td>\n",
              "      <td>good</td>\n",
              "      <td>(pos, 0.9999995126774143, 4.873225958380809e-07)</td>\n",
              "    </tr>\n",
              "    <tr>\n",
              "      <th>11</th>\n",
              "      <td>Xiaomi-Band-Wristband-Magnetic-Bluetooth</td>\n",
              "      <td>It's just mandarin, english, russian and spa...</td>\n",
              "      <td>mandarin english russian spanish global global...</td>\n",
              "      <td>1</td>\n",
              "      <td>bad</td>\n",
              "      <td>(pos, 0.9894876319569249, 0.010512368043077395)</td>\n",
              "    </tr>\n",
              "    <tr>\n",
              "      <th>12</th>\n",
              "      <td>Xiaomi-Band-Wristband-Magnetic-Bluetooth</td>\n",
              "      <td>I’m a Xiaomi fan so I may be a little lenien...</td>\n",
              "      <td>xiaomi fan may little lenient less harsh opini...</td>\n",
              "      <td>3</td>\n",
              "      <td>neutral</td>\n",
              "      <td>(pos, 0.9945864698577637, 0.005413530142221735)</td>\n",
              "    </tr>\n",
              "    <tr>\n",
              "      <th>13</th>\n",
              "      <td>Xiaomi-Band-Wristband-Magnetic-Bluetooth</td>\n",
              "      <td>Love it so much!I mainly just need something...</td>\n",
              "      <td>love much mainly need something tracks steps a...</td>\n",
              "      <td>5</td>\n",
              "      <td>good</td>\n",
              "      <td>(pos, 0.9707324161429082, 0.02926758385709185)</td>\n",
              "    </tr>\n",
              "    <tr>\n",
              "      <th>14</th>\n",
              "      <td>Xiaomi-Band-Wristband-Magnetic-Bluetooth</td>\n",
              "      <td>I paired this with my iPhone, my S7 and my M...</td>\n",
              "      <td>paired iphone mi like general example use take...</td>\n",
              "      <td>4</td>\n",
              "      <td>good</td>\n",
              "      <td>(pos, 0.9448484320334675, 0.055151567966536315)</td>\n",
              "    </tr>\n",
              "    <tr>\n",
              "      <th>15</th>\n",
              "      <td>Xiaomi-Band-Wristband-Magnetic-Bluetooth</td>\n",
              "      <td>Great smart band, the product is well design...</td>\n",
              "      <td>great smart band product well designed functio...</td>\n",
              "      <td>5</td>\n",
              "      <td>good</td>\n",
              "      <td>(neg, 0.4832517558695721, 0.5167482441304236)</td>\n",
              "    </tr>\n",
              "    <tr>\n",
              "      <th>16</th>\n",
              "      <td>Xiaomi-Band-Wristband-Magnetic-Bluetooth</td>\n",
              "      <td>Works great except when I try the freestyle ...</td>\n",
              "      <td>works great except try freestyle workout mode ...</td>\n",
              "      <td>3</td>\n",
              "      <td>neutral</td>\n",
              "      <td>(pos, 0.9996067365224075, 0.0003932634775917917)</td>\n",
              "    </tr>\n",
              "    <tr>\n",
              "      <th>17</th>\n",
              "      <td>Xiaomi-Band-Wristband-Magnetic-Bluetooth</td>\n",
              "      <td>It is a great piece of tracking equipment, I...</td>\n",
              "      <td>great piece tracking equipment wear nice watch...</td>\n",
              "      <td>5</td>\n",
              "      <td>good</td>\n",
              "      <td>(pos, 0.9006859679863615, 0.09931403201364321)</td>\n",
              "    </tr>\n",
              "    <tr>\n",
              "      <th>18</th>\n",
              "      <td>Xiaomi-Band-Wristband-Magnetic-Bluetooth</td>\n",
              "      <td>Well only had it two weeks. Came undone rand...</td>\n",
              "      <td>well two weeks came undone randomly three time...</td>\n",
              "      <td>1</td>\n",
              "      <td>bad</td>\n",
              "      <td>(pos, 0.6340843476664003, 0.3659156523335955)</td>\n",
              "    </tr>\n",
              "    <tr>\n",
              "      <th>19</th>\n",
              "      <td>Xiaomi-Band-Wristband-Magnetic-Bluetooth</td>\n",
              "      <td>Junk. Bought for sleep tracking and it track...</td>\n",
              "      <td>junk bought sleep tracking tracks nothing miss...</td>\n",
              "      <td>1</td>\n",
              "      <td>bad</td>\n",
              "      <td>(neg, 0.08388196666404077, 0.9161180333359645)</td>\n",
              "    </tr>\n",
              "    <tr>\n",
              "      <th>20</th>\n",
              "      <td>Xiaomi-Band-Wristband-Magnetic-Bluetooth</td>\n",
              "      <td>Everything appears to work fine with the Mi ...</td>\n",
              "      <td>everything appears work fine mi fit taken pool...</td>\n",
              "      <td>2</td>\n",
              "      <td>bad</td>\n",
              "      <td>(pos, 0.995898045526572, 0.004101954473408435)</td>\n",
              "    </tr>\n",
              "    <tr>\n",
              "      <th>21</th>\n",
              "      <td>Xiaomi-Band-Wristband-Magnetic-Bluetooth</td>\n",
              "      <td>I have been using this product for last 1 mo...</td>\n",
              "      <td>using product last month every single day wris...</td>\n",
              "      <td>4</td>\n",
              "      <td>good</td>\n",
              "      <td>(pos, 0.9999875950556024, 1.2404944403201402e-05)</td>\n",
              "    </tr>\n",
              "    <tr>\n",
              "      <th>22</th>\n",
              "      <td>Xiaomi-Band-Wristband-Magnetic-Bluetooth</td>\n",
              "      <td>I love this cheap thing. It works well for t...</td>\n",
              "      <td>love cheap thing works well price music still ...</td>\n",
              "      <td>5</td>\n",
              "      <td>good</td>\n",
              "      <td>(pos, 0.9883860553547946, 0.011613944645195662)</td>\n",
              "    </tr>\n",
              "    <tr>\n",
              "      <th>23</th>\n",
              "      <td>Xiaomi-Band-Wristband-Magnetic-Bluetooth</td>\n",
              "      <td>I did like several things about this tracker...</td>\n",
              "      <td>like several things tracker nice size comforta...</td>\n",
              "      <td>3</td>\n",
              "      <td>neutral</td>\n",
              "      <td>(pos, 0.8665245360525989, 0.1334754639473957)</td>\n",
              "    </tr>\n",
              "    <tr>\n",
              "      <th>24</th>\n",
              "      <td>Xiaomi-Band-Wristband-Magnetic-Bluetooth</td>\n",
              "      <td>Mi Smart Band 5 is not officially released i...</td>\n",
              "      <td>mi smart band officially released usa cannot s...</td>\n",
              "      <td>5</td>\n",
              "      <td>good</td>\n",
              "      <td>(pos, 0.998697414103788, 0.001302585896213529)</td>\n",
              "    </tr>\n",
              "    <tr>\n",
              "      <th>25</th>\n",
              "      <td>Xiaomi-Band-Wristband-Magnetic-Bluetooth</td>\n",
              "      <td>ComfortThe band is lightweight and comfortab...</td>\n",
              "      <td>comfortthe band lightweight comfortable someon...</td>\n",
              "      <td>4</td>\n",
              "      <td>good</td>\n",
              "      <td>(pos, 0.9999999999987391, 1.2726979802149328e-12)</td>\n",
              "    </tr>\n",
              "    <tr>\n",
              "      <th>26</th>\n",
              "      <td>Xiaomi-Band-Wristband-Magnetic-Bluetooth</td>\n",
              "      <td>At first I was almost disappointed because t...</td>\n",
              "      <td>first almost disappointed product arrived box ...</td>\n",
              "      <td>5</td>\n",
              "      <td>good</td>\n",
              "      <td>(pos, 0.8713430924625444, 0.12865690753745498)</td>\n",
              "    </tr>\n",
              "    <tr>\n",
              "      <th>27</th>\n",
              "      <td>Xiaomi-Band-Wristband-Magnetic-Bluetooth</td>\n",
              "      <td>I previously had a Fitbit Alta. This has way...</td>\n",
              "      <td>previously fitbit alta way features way less c...</td>\n",
              "      <td>5</td>\n",
              "      <td>good</td>\n",
              "      <td>(pos, 0.9913916341690873, 0.008608365830922091)</td>\n",
              "    </tr>\n",
              "    <tr>\n",
              "      <th>28</th>\n",
              "      <td>Xiaomi-Band-Wristband-Magnetic-Bluetooth</td>\n",
              "      <td>I have a Samsung band that has barely been l...</td>\n",
              "      <td>samsung band barely lasting day even extras be...</td>\n",
              "      <td>5</td>\n",
              "      <td>good</td>\n",
              "      <td>(pos, 0.9999432903352452, 5.6709664737218675e-05)</td>\n",
              "    </tr>\n",
              "    <tr>\n",
              "      <th>29</th>\n",
              "      <td>Xiaomi-Band-Wristband-Magnetic-Bluetooth</td>\n",
              "      <td>Wrist band was difficult to put on and didn'...</td>\n",
              "      <td>wrist band difficult put stay secure give accu...</td>\n",
              "      <td>1</td>\n",
              "      <td>bad</td>\n",
              "      <td>(pos, 0.999365570747755, 0.000634429252252055)</td>\n",
              "    </tr>\n",
              "    <tr>\n",
              "      <th>30</th>\n",
              "      <td>Xiaomi-Band-Wristband-Magnetic-Bluetooth</td>\n",
              "      <td>This is by far the best band you're going to...</td>\n",
              "      <td>far best band going get price could believe fr...</td>\n",
              "      <td>5</td>\n",
              "      <td>good</td>\n",
              "      <td>(pos, 0.9892455840023547, 0.010754415997642689)</td>\n",
              "    </tr>\n",
              "    <tr>\n",
              "      <th>31</th>\n",
              "      <td>Xiaomi-Band-Wristband-Magnetic-Bluetooth</td>\n",
              "      <td>Heart rate sensor seems to be defective, I u...</td>\n",
              "      <td>heart rate sensor seems defective used miband ...</td>\n",
              "      <td>1</td>\n",
              "      <td>bad</td>\n",
              "      <td>(neg, 0.15472784854613628, 0.8452721514538609)</td>\n",
              "    </tr>\n",
              "    <tr>\n",
              "      <th>32</th>\n",
              "      <td>Xiaomi-Band-Wristband-Magnetic-Bluetooth</td>\n",
              "      <td>I bought this tracker to encourage me to inc...</td>\n",
              "      <td>bought tracker encourage increase steps works ...</td>\n",
              "      <td>4</td>\n",
              "      <td>good</td>\n",
              "      <td>(pos, 0.997257108567723, 0.0027428914322838445)</td>\n",
              "    </tr>\n",
              "    <tr>\n",
              "      <th>33</th>\n",
              "      <td>Xiaomi-Band-Wristband-Magnetic-Bluetooth</td>\n",
              "      <td>The product works fine especially for price....</td>\n",
              "      <td>product works fine especially price band comfo...</td>\n",
              "      <td>2</td>\n",
              "      <td>bad</td>\n",
              "      <td>(pos, 0.9712458198447884, 0.028754180155204416)</td>\n",
              "    </tr>\n",
              "    <tr>\n",
              "      <th>34</th>\n",
              "      <td>Xiaomi-Band-Wristband-Magnetic-Bluetooth</td>\n",
              "      <td>Bought this for my 13 year old son. Many fea...</td>\n",
              "      <td>bought year old son many features apple watch ...</td>\n",
              "      <td>4</td>\n",
              "      <td>good</td>\n",
              "      <td>(pos, 0.9997793940965491, 0.00022060590344170246)</td>\n",
              "    </tr>\n",
              "    <tr>\n",
              "      <th>35</th>\n",
              "      <td>Xiaomi-Band-Wristband-Magnetic-Bluetooth</td>\n",
              "      <td>I actually wanted an Amazfit band 5 (also ma...</td>\n",
              "      <td>actually wanted amazfit band also made xiaomi ...</td>\n",
              "      <td>5</td>\n",
              "      <td>good</td>\n",
              "      <td>(pos, 0.9368756117768747, 0.06312438822312144)</td>\n",
              "    </tr>\n",
              "    <tr>\n",
              "      <th>36</th>\n",
              "      <td>Xiaomi-Band-Wristband-Magnetic-Bluetooth</td>\n",
              "      <td>I bought this Mi Band 5 to keep track of my ...</td>\n",
              "      <td>bought mi band keep track sleep patterns momen...</td>\n",
              "      <td>3</td>\n",
              "      <td>neutral</td>\n",
              "      <td>(pos, 0.9706851368790717, 0.02931486312091894)</td>\n",
              "    </tr>\n",
              "    <tr>\n",
              "      <th>37</th>\n",
              "      <td>Xiaomi-Band-Wristband-Magnetic-Bluetooth</td>\n",
              "      <td>so I bought this to replace Mi 3band since I...</td>\n",
              "      <td>bought replace mi band since issues connecting...</td>\n",
              "      <td>1</td>\n",
              "      <td>bad</td>\n",
              "      <td>(pos, 0.7898678663367544, 0.2101321336632457)</td>\n",
              "    </tr>\n",
              "    <tr>\n",
              "      <th>38</th>\n",
              "      <td>Xiaomi-Band-Wristband-Magnetic-Bluetooth</td>\n",
              "      <td>It's a nifty little device. Hard to beat for...</td>\n",
              "      <td>nifty little device hard beat price think main...</td>\n",
              "      <td>4</td>\n",
              "      <td>good</td>\n",
              "      <td>(pos, 0.9994822231357275, 0.000517776864277716)</td>\n",
              "    </tr>\n",
              "    <tr>\n",
              "      <th>39</th>\n",
              "      <td>Xiaomi-Band-Wristband-Magnetic-Bluetooth</td>\n",
              "      <td>After my Fitbit Alta HR died after about two...</td>\n",
              "      <td>fitbit alta hr died two years purchased mi ban...</td>\n",
              "      <td>5</td>\n",
              "      <td>good</td>\n",
              "      <td>(pos, 0.98322908702513, 0.016770912974867505)</td>\n",
              "    </tr>\n",
              "    <tr>\n",
              "      <th>40</th>\n",
              "      <td>Xiaomi-Band-Wristband-Magnetic-Bluetooth</td>\n",
              "      <td>I use my new Xiaomi Mi Band 5 for tracking m...</td>\n",
              "      <td>use new xiaomi mi band tracking rowing love us...</td>\n",
              "      <td>5</td>\n",
              "      <td>good</td>\n",
              "      <td>(pos, 0.666035836194149, 0.33396416380585053)</td>\n",
              "    </tr>\n",
              "    <tr>\n",
              "      <th>41</th>\n",
              "      <td>Xiaomi-Band-Wristband-Magnetic-Bluetooth</td>\n",
              "      <td>I had Fitbit, Samsung, and Garmin before. On...</td>\n",
              "      <td>fitbit samsung garmin one day saw mi band amaz...</td>\n",
              "      <td>5</td>\n",
              "      <td>good</td>\n",
              "      <td>(pos, 0.8195942999553415, 0.18040570004465858)</td>\n",
              "    </tr>\n",
              "    <tr>\n",
              "      <th>42</th>\n",
              "      <td>Xiaomi-Band-Wristband-Magnetic-Bluetooth</td>\n",
              "      <td>This is a great fitness band as long as you ...</td>\n",
              "      <td>great fitness band long buying sleep tracking ...</td>\n",
              "      <td>3</td>\n",
              "      <td>neutral</td>\n",
              "      <td>(neg, 0.22755350435427493, 0.7724464956457249)</td>\n",
              "    </tr>\n",
              "    <tr>\n",
              "      <th>43</th>\n",
              "      <td>Xiaomi-Band-Wristband-Magnetic-Bluetooth</td>\n",
              "      <td>Wow.  I got this for my wife because she nev...</td>\n",
              "      <td>wow got wife never wears watch would nice yo g...</td>\n",
              "      <td>5</td>\n",
              "      <td>good</td>\n",
              "      <td>(pos, 0.6376613557893109, 0.36233864421069234)</td>\n",
              "    </tr>\n",
              "    <tr>\n",
              "      <th>44</th>\n",
              "      <td>Xiaomi-Band-Wristband-Magnetic-Bluetooth</td>\n",
              "      <td>I found my self in a dilemma and 1st class p...</td>\n",
              "      <td>found self dilemma st class problem started ge...</td>\n",
              "      <td>5</td>\n",
              "      <td>good</td>\n",
              "      <td>(pos, 0.9982046129937053, 0.0017953870063042857)</td>\n",
              "    </tr>\n",
              "    <tr>\n",
              "      <th>45</th>\n",
              "      <td>Xiaomi-Band-Wristband-Magnetic-Bluetooth</td>\n",
              "      <td>I have used the band 4 for a few months and ...</td>\n",
              "      <td>used band months keep time gotten used hands t...</td>\n",
              "      <td>5</td>\n",
              "      <td>good</td>\n",
              "      <td>(pos, 0.9252346790909979, 0.07476532090899572)</td>\n",
              "    </tr>\n",
              "    <tr>\n",
              "      <th>46</th>\n",
              "      <td>Xiaomi-Band-Wristband-Magnetic-Bluetooth</td>\n",
              "      <td>Stylish, good software. I really like it.</td>\n",
              "      <td>stylish good software really like</td>\n",
              "      <td>5</td>\n",
              "      <td>good</td>\n",
              "      <td>(pos, 0.5549877387252216, 0.4450122612747787)</td>\n",
              "    </tr>\n",
              "    <tr>\n",
              "      <th>47</th>\n",
              "      <td>Xiaomi-Band-Wristband-Magnetic-Bluetooth</td>\n",
              "      <td>I watched some video on YouTube that this is...</td>\n",
              "      <td>watched video youtube best smart watch android...</td>\n",
              "      <td>2</td>\n",
              "      <td>bad</td>\n",
              "      <td>(pos, 0.991852330817264, 0.008147669182732221)</td>\n",
              "    </tr>\n",
              "    <tr>\n",
              "      <th>48</th>\n",
              "      <td>Xiaomi-Band-Wristband-Magnetic-Bluetooth</td>\n",
              "      <td>After using the watch a couple days a really...</td>\n",
              "      <td>using watch couple days really enjoyed lot fea...</td>\n",
              "      <td>2</td>\n",
              "      <td>bad</td>\n",
              "      <td>(pos, 0.9976801589646874, 0.0023198410353107483)</td>\n",
              "    </tr>\n",
              "    <tr>\n",
              "      <th>49</th>\n",
              "      <td>Xiaomi-Band-Wristband-Magnetic-Bluetooth</td>\n",
              "      <td>The watch is fine for the price but it isn't...</td>\n",
              "      <td>watch fine price tracking sleep everything ena...</td>\n",
              "      <td>3</td>\n",
              "      <td>neutral</td>\n",
              "      <td>(pos, 0.7615130092125278, 0.23848699078747365)</td>\n",
              "    </tr>\n",
              "  </tbody>\n",
              "</table>\n",
              "</div>"
            ],
            "text/plain": [
              "                                        Name  ...                                      new_sentiment\n",
              "0   Xiaomi-Band-Wristband-Magnetic-Bluetooth  ...   (pos, 0.9999995126774143, 4.873225958380809e-07)\n",
              "1   Xiaomi-Band-Wristband-Magnetic-Bluetooth  ...    (pos, 0.9894876319569249, 0.010512368043077395)\n",
              "2   Xiaomi-Band-Wristband-Magnetic-Bluetooth  ...    (pos, 0.9945864698577637, 0.005413530142221735)\n",
              "3   Xiaomi-Band-Wristband-Magnetic-Bluetooth  ...     (pos, 0.9707324161429082, 0.02926758385709185)\n",
              "4   Xiaomi-Band-Wristband-Magnetic-Bluetooth  ...    (pos, 0.9448484320334675, 0.055151567966536315)\n",
              "5   Xiaomi-Band-Wristband-Magnetic-Bluetooth  ...      (neg, 0.4832517558695721, 0.5167482441304236)\n",
              "6   Xiaomi-Band-Wristband-Magnetic-Bluetooth  ...   (pos, 0.9996067365224075, 0.0003932634775917917)\n",
              "7   Xiaomi-Band-Wristband-Magnetic-Bluetooth  ...     (pos, 0.9006859679863615, 0.09931403201364321)\n",
              "8   Xiaomi-Band-Wristband-Magnetic-Bluetooth  ...      (pos, 0.6340843476664003, 0.3659156523335955)\n",
              "9   Xiaomi-Band-Wristband-Magnetic-Bluetooth  ...     (neg, 0.08388196666404077, 0.9161180333359645)\n",
              "10  Xiaomi-Band-Wristband-Magnetic-Bluetooth  ...   (pos, 0.9999995126774143, 4.873225958380809e-07)\n",
              "11  Xiaomi-Band-Wristband-Magnetic-Bluetooth  ...    (pos, 0.9894876319569249, 0.010512368043077395)\n",
              "12  Xiaomi-Band-Wristband-Magnetic-Bluetooth  ...    (pos, 0.9945864698577637, 0.005413530142221735)\n",
              "13  Xiaomi-Band-Wristband-Magnetic-Bluetooth  ...     (pos, 0.9707324161429082, 0.02926758385709185)\n",
              "14  Xiaomi-Band-Wristband-Magnetic-Bluetooth  ...    (pos, 0.9448484320334675, 0.055151567966536315)\n",
              "15  Xiaomi-Band-Wristband-Magnetic-Bluetooth  ...      (neg, 0.4832517558695721, 0.5167482441304236)\n",
              "16  Xiaomi-Band-Wristband-Magnetic-Bluetooth  ...   (pos, 0.9996067365224075, 0.0003932634775917917)\n",
              "17  Xiaomi-Band-Wristband-Magnetic-Bluetooth  ...     (pos, 0.9006859679863615, 0.09931403201364321)\n",
              "18  Xiaomi-Band-Wristband-Magnetic-Bluetooth  ...      (pos, 0.6340843476664003, 0.3659156523335955)\n",
              "19  Xiaomi-Band-Wristband-Magnetic-Bluetooth  ...     (neg, 0.08388196666404077, 0.9161180333359645)\n",
              "20  Xiaomi-Band-Wristband-Magnetic-Bluetooth  ...     (pos, 0.995898045526572, 0.004101954473408435)\n",
              "21  Xiaomi-Band-Wristband-Magnetic-Bluetooth  ...  (pos, 0.9999875950556024, 1.2404944403201402e-05)\n",
              "22  Xiaomi-Band-Wristband-Magnetic-Bluetooth  ...    (pos, 0.9883860553547946, 0.011613944645195662)\n",
              "23  Xiaomi-Band-Wristband-Magnetic-Bluetooth  ...      (pos, 0.8665245360525989, 0.1334754639473957)\n",
              "24  Xiaomi-Band-Wristband-Magnetic-Bluetooth  ...     (pos, 0.998697414103788, 0.001302585896213529)\n",
              "25  Xiaomi-Band-Wristband-Magnetic-Bluetooth  ...  (pos, 0.9999999999987391, 1.2726979802149328e-12)\n",
              "26  Xiaomi-Band-Wristband-Magnetic-Bluetooth  ...     (pos, 0.8713430924625444, 0.12865690753745498)\n",
              "27  Xiaomi-Band-Wristband-Magnetic-Bluetooth  ...    (pos, 0.9913916341690873, 0.008608365830922091)\n",
              "28  Xiaomi-Band-Wristband-Magnetic-Bluetooth  ...  (pos, 0.9999432903352452, 5.6709664737218675e-05)\n",
              "29  Xiaomi-Band-Wristband-Magnetic-Bluetooth  ...     (pos, 0.999365570747755, 0.000634429252252055)\n",
              "30  Xiaomi-Band-Wristband-Magnetic-Bluetooth  ...    (pos, 0.9892455840023547, 0.010754415997642689)\n",
              "31  Xiaomi-Band-Wristband-Magnetic-Bluetooth  ...     (neg, 0.15472784854613628, 0.8452721514538609)\n",
              "32  Xiaomi-Band-Wristband-Magnetic-Bluetooth  ...    (pos, 0.997257108567723, 0.0027428914322838445)\n",
              "33  Xiaomi-Band-Wristband-Magnetic-Bluetooth  ...    (pos, 0.9712458198447884, 0.028754180155204416)\n",
              "34  Xiaomi-Band-Wristband-Magnetic-Bluetooth  ...  (pos, 0.9997793940965491, 0.00022060590344170246)\n",
              "35  Xiaomi-Band-Wristband-Magnetic-Bluetooth  ...     (pos, 0.9368756117768747, 0.06312438822312144)\n",
              "36  Xiaomi-Band-Wristband-Magnetic-Bluetooth  ...     (pos, 0.9706851368790717, 0.02931486312091894)\n",
              "37  Xiaomi-Band-Wristband-Magnetic-Bluetooth  ...      (pos, 0.7898678663367544, 0.2101321336632457)\n",
              "38  Xiaomi-Band-Wristband-Magnetic-Bluetooth  ...    (pos, 0.9994822231357275, 0.000517776864277716)\n",
              "39  Xiaomi-Band-Wristband-Magnetic-Bluetooth  ...      (pos, 0.98322908702513, 0.016770912974867505)\n",
              "40  Xiaomi-Band-Wristband-Magnetic-Bluetooth  ...      (pos, 0.666035836194149, 0.33396416380585053)\n",
              "41  Xiaomi-Band-Wristband-Magnetic-Bluetooth  ...     (pos, 0.8195942999553415, 0.18040570004465858)\n",
              "42  Xiaomi-Band-Wristband-Magnetic-Bluetooth  ...     (neg, 0.22755350435427493, 0.7724464956457249)\n",
              "43  Xiaomi-Band-Wristband-Magnetic-Bluetooth  ...     (pos, 0.6376613557893109, 0.36233864421069234)\n",
              "44  Xiaomi-Band-Wristband-Magnetic-Bluetooth  ...   (pos, 0.9982046129937053, 0.0017953870063042857)\n",
              "45  Xiaomi-Band-Wristband-Magnetic-Bluetooth  ...     (pos, 0.9252346790909979, 0.07476532090899572)\n",
              "46  Xiaomi-Band-Wristband-Magnetic-Bluetooth  ...      (pos, 0.5549877387252216, 0.4450122612747787)\n",
              "47  Xiaomi-Band-Wristband-Magnetic-Bluetooth  ...     (pos, 0.991852330817264, 0.008147669182732221)\n",
              "48  Xiaomi-Band-Wristband-Magnetic-Bluetooth  ...   (pos, 0.9976801589646874, 0.0023198410353107483)\n",
              "49  Xiaomi-Band-Wristband-Magnetic-Bluetooth  ...     (pos, 0.7615130092125278, 0.23848699078747365)\n",
              "\n",
              "[50 rows x 6 columns]"
            ]
          },
          "metadata": {
            "tags": []
          },
          "execution_count": 74
        }
      ]
    },
    {
      "cell_type": "code",
      "metadata": {
        "id": "z56ADLqSNhHI"
      },
      "source": [
        ""
      ],
      "execution_count": null,
      "outputs": []
    }
  ]
}