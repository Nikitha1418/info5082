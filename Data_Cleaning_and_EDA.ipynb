{
  "nbformat": 4,
  "nbformat_minor": 0,
  "metadata": {
    "colab": {
      "name": "Data Cleaning and EDA.ipynb",
      "provenance": []
    },
    "kernelspec": {
      "name": "python3",
      "display_name": "Python 3"
    },
    "language_info": {
      "name": "python"
    }
  },
  "cells": [
    {
      "cell_type": "markdown",
      "metadata": {
        "id": "e23JHry08htX"
      },
      "source": [
        "#**EDA**"
      ]
    },
    {
      "cell_type": "code",
      "metadata": {
        "id": "k0AHlpVI7dwS"
      },
      "source": [
        "import pandas as pd"
      ],
      "execution_count": 1,
      "outputs": []
    },
    {
      "cell_type": "code",
      "metadata": {
        "colab": {
          "base_uri": "https://localhost:8080/",
          "height": 402
        },
        "id": "VkvbWeU_7fq6",
        "outputId": "5f98eb51-ec9d-414b-f2ba-c2eb44e70203"
      },
      "source": [
        "input_data = pd.read_csv('data.csv')\n",
        "input_data"
      ],
      "execution_count": 2,
      "outputs": [
        {
          "output_type": "execute_result",
          "data": {
            "text/html": [
              "<div>\n",
              "<style scoped>\n",
              "    .dataframe tbody tr th:only-of-type {\n",
              "        vertical-align: middle;\n",
              "    }\n",
              "\n",
              "    .dataframe tbody tr th {\n",
              "        vertical-align: top;\n",
              "    }\n",
              "\n",
              "    .dataframe thead th {\n",
              "        text-align: right;\n",
              "    }\n",
              "</style>\n",
              "<table border=\"1\" class=\"dataframe\">\n",
              "  <thead>\n",
              "    <tr style=\"text-align: right;\">\n",
              "      <th></th>\n",
              "      <th>Reviews</th>\n",
              "    </tr>\n",
              "  </thead>\n",
              "  <tbody>\n",
              "    <tr>\n",
              "      <th>0</th>\n",
              "      <td>TLDR: After owning a $150 FitBit and a $35 L...</td>\n",
              "    </tr>\n",
              "    <tr>\n",
              "      <th>1</th>\n",
              "      <td>It's just mandarin, english, russian and spa...</td>\n",
              "    </tr>\n",
              "    <tr>\n",
              "      <th>2</th>\n",
              "      <td>I’m a Xiaomi fan so I may be a little lenien...</td>\n",
              "    </tr>\n",
              "    <tr>\n",
              "      <th>3</th>\n",
              "      <td>Love it so much!I mainly just need something...</td>\n",
              "    </tr>\n",
              "    <tr>\n",
              "      <th>4</th>\n",
              "      <td>I paired this with my iPhone, my S7 and my M...</td>\n",
              "    </tr>\n",
              "    <tr>\n",
              "      <th>...</th>\n",
              "      <td>...</td>\n",
              "    </tr>\n",
              "    <tr>\n",
              "      <th>10095</th>\n",
              "      <td>Très belle couleur et installation rapide.Se...</td>\n",
              "    </tr>\n",
              "    <tr>\n",
              "      <th>10096</th>\n",
              "      <td>Bin sehr zufrieden</td>\n",
              "    </tr>\n",
              "    <tr>\n",
              "      <th>10097</th>\n",
              "      <td>Produit arrivé intact. Bon produit, pas déçue.</td>\n",
              "    </tr>\n",
              "    <tr>\n",
              "      <th>10098</th>\n",
              "      <td>Fonction idéale pour bien suivre des séances...</td>\n",
              "    </tr>\n",
              "    <tr>\n",
              "      <th>10099</th>\n",
              "      <td>Top cette montre je la conseille pour le pri...</td>\n",
              "    </tr>\n",
              "  </tbody>\n",
              "</table>\n",
              "<p>10100 rows × 1 columns</p>\n",
              "</div>"
            ],
            "text/plain": [
              "                                                 Reviews\n",
              "0        TLDR: After owning a $150 FitBit and a $35 L...\n",
              "1        It's just mandarin, english, russian and spa...\n",
              "2        I’m a Xiaomi fan so I may be a little lenien...\n",
              "3        Love it so much!I mainly just need something...\n",
              "4        I paired this with my iPhone, my S7 and my M...\n",
              "...                                                  ...\n",
              "10095    Très belle couleur et installation rapide.Se...\n",
              "10096                                 Bin sehr zufrieden\n",
              "10097     Produit arrivé intact. Bon produit, pas déçue.\n",
              "10098    Fonction idéale pour bien suivre des séances...\n",
              "10099    Top cette montre je la conseille pour le pri...\n",
              "\n",
              "[10100 rows x 1 columns]"
            ]
          },
          "metadata": {
            "tags": []
          },
          "execution_count": 2
        }
      ]
    },
    {
      "cell_type": "code",
      "metadata": {
        "colab": {
          "base_uri": "https://localhost:8080/"
        },
        "id": "yA8_kPP67qj7",
        "outputId": "dde8380b-5fa3-48a2-fe76-366eaa2c28ba"
      },
      "source": [
        "print(\"Shape of data=>\",input_data.shape)"
      ],
      "execution_count": 3,
      "outputs": [
        {
          "output_type": "stream",
          "text": [
            "Shape of data=> (10100, 1)\n"
          ],
          "name": "stdout"
        }
      ]
    },
    {
      "cell_type": "code",
      "metadata": {
        "colab": {
          "base_uri": "https://localhost:8080/"
        },
        "id": "6_L15IvC7yMR",
        "outputId": "1f9bfa7c-076a-4478-abfb-7526d7fa21a3"
      },
      "source": [
        "input_data.isnull().sum()"
      ],
      "execution_count": 4,
      "outputs": [
        {
          "output_type": "execute_result",
          "data": {
            "text/plain": [
              "Reviews    0\n",
              "dtype: int64"
            ]
          },
          "metadata": {
            "tags": []
          },
          "execution_count": 4
        }
      ]
    },
    {
      "cell_type": "markdown",
      "metadata": {
        "id": "eJXJRsmn8Y8z"
      },
      "source": [
        "#**Data** **Cleaning**"
      ]
    },
    {
      "cell_type": "code",
      "metadata": {
        "id": "BTg7l7av70xJ"
      },
      "source": [
        "import re\n",
        "from nltk.corpus import stopwords\n",
        "from nltk.stem import PorterStemmer\n",
        "from textblob import Word\n",
        "import nltk"
      ],
      "execution_count": 5,
      "outputs": []
    },
    {
      "cell_type": "code",
      "metadata": {
        "id": "69AEktTX72zV"
      },
      "source": [
        "#Removal of special characters:\n",
        "\n",
        "input_data['cleaned_data'] = input_data['Reviews'].apply(lambda x: ''.join(re.sub(r\"[^a-zA-Z0-9]+\", ' ', charctr) for charctr in x ))"
      ],
      "execution_count": 6,
      "outputs": []
    },
    {
      "cell_type": "code",
      "metadata": {
        "id": "mw6Gx9we75p6"
      },
      "source": [
        "#Removal of punctuations :\n",
        "\n",
        "input_data['cleaned_data'] = input_data['cleaned_data'].str.replace('[^\\w\\s]','')"
      ],
      "execution_count": 7,
      "outputs": []
    },
    {
      "cell_type": "code",
      "metadata": {
        "id": "VsOQRE_p79DW"
      },
      "source": [
        "#Removal of numbers:\n",
        "\n",
        "input_data['cleaned_data'] = input_data['cleaned_data'].str.replace('\\d+', '')"
      ],
      "execution_count": 8,
      "outputs": []
    },
    {
      "cell_type": "code",
      "metadata": {
        "id": "b_pglp657_E8"
      },
      "source": [
        "#Lower case all texts:\n",
        "\n",
        "input_data['cleaned_data'] = input_data['cleaned_data'].apply(lambda x: \" \".join(x.lower() for x in x.split()))"
      ],
      "execution_count": 9,
      "outputs": []
    },
    {
      "cell_type": "code",
      "metadata": {
        "colab": {
          "base_uri": "https://localhost:8080/"
        },
        "id": "TfQlE7C78BU9",
        "outputId": "b8be742b-8bcf-4a35-ab5c-e558397d4a20"
      },
      "source": [
        "import nltk\n",
        "nltk.download('stopwords')"
      ],
      "execution_count": 10,
      "outputs": [
        {
          "output_type": "stream",
          "text": [
            "[nltk_data] Downloading package stopwords to /root/nltk_data...\n",
            "[nltk_data]   Unzipping corpora/stopwords.zip.\n"
          ],
          "name": "stdout"
        },
        {
          "output_type": "execute_result",
          "data": {
            "text/plain": [
              "True"
            ]
          },
          "metadata": {
            "tags": []
          },
          "execution_count": 10
        }
      ]
    },
    {
      "cell_type": "code",
      "metadata": {
        "id": "XV1pT-Kb8FHm"
      },
      "source": [
        "#Removing stopwords by using stopwordslist\n",
        "\n",
        "stop = stopwords.words('english')\n",
        "input_data['cleaned_data'] = input_data['cleaned_data'].apply(lambda x: \" \".join(x for x in x.split() if x not in stop))"
      ],
      "execution_count": 11,
      "outputs": []
    },
    {
      "cell_type": "code",
      "metadata": {
        "id": "t8K2vgMa8HjS"
      },
      "source": [
        "#Stemming Data\n",
        "\n",
        "st = PorterStemmer()\n",
        "input_data['cleaned_data'] = input_data['cleaned_data'].apply(lambda x: \" \".join([st.stem(word) for word in x]))"
      ],
      "execution_count": 12,
      "outputs": []
    },
    {
      "cell_type": "code",
      "metadata": {
        "colab": {
          "base_uri": "https://localhost:8080/"
        },
        "id": "ytsZZWVM8JmC",
        "outputId": "cd39616c-a790-4757-fed7-f84ee5f56d7c"
      },
      "source": [
        "#Lemmatization\n",
        "\n",
        "nltk.download('wordnet')\n",
        "input_data['cleaned_data'] = input_data['cleaned_data'].apply(lambda x: \" \".join([Word(word).lemmatize() for word in x.split()]))"
      ],
      "execution_count": 13,
      "outputs": [
        {
          "output_type": "stream",
          "text": [
            "[nltk_data] Downloading package wordnet to /root/nltk_data...\n",
            "[nltk_data]   Unzipping corpora/wordnet.zip.\n"
          ],
          "name": "stdout"
        }
      ]
    },
    {
      "cell_type": "code",
      "metadata": {
        "id": "sAZ1vhah8L7T"
      },
      "source": [
        "#Saving the CleanedData to CSV\n",
        "\n",
        "input_data.to_csv('data_after_cleaning.csv',index=False)"
      ],
      "execution_count": 14,
      "outputs": []
    },
    {
      "cell_type": "code",
      "metadata": {
        "id": "V06gyMe88StU"
      },
      "source": [
        ""
      ],
      "execution_count": null,
      "outputs": []
    }
  ]
}